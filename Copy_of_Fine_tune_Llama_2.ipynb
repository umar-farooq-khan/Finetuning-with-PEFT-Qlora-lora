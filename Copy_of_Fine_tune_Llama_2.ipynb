{
  "cells": [
    {
      "cell_type": "markdown",
      "metadata": {
        "id": "q57Zf8p9ivZa"
      },
      "source": [
        "#**Step 1: Install All the Required Packages**"
      ]
    },
    {
      "cell_type": "code",
      "execution_count": null,
      "metadata": {
        "colab": {
          "base_uri": "https://localhost:8080/"
        },
        "id": "GLXwJqbjtPho",
        "outputId": "b85e1bec-0db6-4839-f28a-f1f74e4eec16"
      },
      "outputs": [
        {
          "name": "stdout",
          "output_type": "stream",
          "text": [
            "\u001b[2K     \u001b[90m━━━━━━━━━━━━━━━━━━━━━━━━━━━━━━━━━━━━━━━━\u001b[0m \u001b[32m244.2/244.2 kB\u001b[0m \u001b[31m2.1 MB/s\u001b[0m eta \u001b[36m0:00:00\u001b[0m\n",
            "\u001b[2K     \u001b[90m━━━━━━━━━━━━━━━━━━━━━━━━━━━━━━━━━━━━━━━━\u001b[0m \u001b[32m72.9/72.9 kB\u001b[0m \u001b[31m5.5 MB/s\u001b[0m eta \u001b[36m0:00:00\u001b[0m\n",
            "\u001b[2K     \u001b[90m━━━━━━━━━━━━━━━━━━━━━━━━━━━━━━━━━━━━━━━━\u001b[0m \u001b[32m92.5/92.5 MB\u001b[0m \u001b[31m7.5 MB/s\u001b[0m eta \u001b[36m0:00:00\u001b[0m\n",
            "\u001b[2K     \u001b[90m━━━━━━━━━━━━━━━━━━━━━━━━━━━━━━━━━━━━━━━━\u001b[0m \u001b[32m7.4/7.4 MB\u001b[0m \u001b[31m20.6 MB/s\u001b[0m eta \u001b[36m0:00:00\u001b[0m\n",
            "\u001b[2K     \u001b[90m━━━━━━━━━━━━━━━━━━━━━━━━━━━━━━━━━━━━━━━━\u001b[0m \u001b[32m77.4/77.4 kB\u001b[0m \u001b[31m3.8 MB/s\u001b[0m eta \u001b[36m0:00:00\u001b[0m\n",
            "\u001b[2K     \u001b[90m━━━━━━━━━━━━━━━━━━━━━━━━━━━━━━━━━━━━━━━━\u001b[0m \u001b[32m7.8/7.8 MB\u001b[0m \u001b[31m35.6 MB/s\u001b[0m eta \u001b[36m0:00:00\u001b[0m\n",
            "\u001b[2K     \u001b[90m━━━━━━━━━━━━━━━━━━━━━━━━━━━━━━━━━━━━━━━━\u001b[0m \u001b[32m536.7/536.7 kB\u001b[0m \u001b[31m14.6 MB/s\u001b[0m eta \u001b[36m0:00:00\u001b[0m\n",
            "\u001b[2K     \u001b[90m━━━━━━━━━━━━━━━━━━━━━━━━━━━━━━━━━━━━━━━━\u001b[0m \u001b[32m116.3/116.3 kB\u001b[0m \u001b[31m10.3 MB/s\u001b[0m eta \u001b[36m0:00:00\u001b[0m\n",
            "\u001b[2K     \u001b[90m━━━━━━━━━━━━━━━━━━━━━━━━━━━━━━━━━━━━━━━━\u001b[0m \u001b[32m134.8/134.8 kB\u001b[0m \u001b[31m9.1 MB/s\u001b[0m eta \u001b[36m0:00:00\u001b[0m\n",
            "\u001b[?25h"
          ]
        }
      ],
      "source": [
        "!pip install -q accelerate==0.21.0 peft==0.4.0 bitsandbytes==0.40.2 transformers==4.31.0 trl==0.4.7"
      ]
    },
    {
      "cell_type": "code",
      "execution_count": null,
      "metadata": {
        "colab": {
          "base_uri": "https://localhost:8080/",
          "height": 773
        },
        "id": "smhC3088SXAX",
        "outputId": "f676d406-f847-4f84-cd00-deed8db9fe09"
      },
      "outputs": [
        {
          "data": {
            "application/vnd.google.colaboratory.intrinsic+json": {
              "type": "dataframe",
              "variable_name": "df"
            },
            "text/html": [
              "\n",
              "  <div id=\"df-cfc677e8-7d5f-41f5-a283-5fea0a1ffa46\" class=\"colab-df-container\">\n",
              "    <div>\n",
              "<style scoped>\n",
              "    .dataframe tbody tr th:only-of-type {\n",
              "        vertical-align: middle;\n",
              "    }\n",
              "\n",
              "    .dataframe tbody tr th {\n",
              "        vertical-align: top;\n",
              "    }\n",
              "\n",
              "    .dataframe thead th {\n",
              "        text-align: right;\n",
              "    }\n",
              "</style>\n",
              "<table border=\"1\" class=\"dataframe\">\n",
              "  <thead>\n",
              "    <tr style=\"text-align: right;\">\n",
              "      <th></th>\n",
              "      <th>AV_manufacturer</th>\n",
              "      <th>AVyear</th>\n",
              "      <th>AVmake</th>\n",
              "      <th>AVmodel</th>\n",
              "      <th>AVregloc</th>\n",
              "      <th>AccidentZIPcode</th>\n",
              "      <th>AccidentSTATE</th>\n",
              "      <th>AccidentCOUNTY</th>\n",
              "      <th>AccidentCITY</th>\n",
              "      <th>AccidentADDRESS</th>\n",
              "      <th>...</th>\n",
              "      <th>AccOTHERfactorsSTOPGOTRAFFIC-Status</th>\n",
              "      <th>AccOTHERfactorsENTERINGORLEAVINGRAMP-Status</th>\n",
              "      <th>AccOTHERfactorsPREVIOUSCOLLISION-Status</th>\n",
              "      <th>AccOTHERfactorsUNFAMILIARWITHROAD-Status</th>\n",
              "      <th>AccOTHERfactorsDEFECTIVEWEHEQUIPYes-Status</th>\n",
              "      <th>AccOTHERfactorsDEFECTIVEWEHEQUIPNo-Status</th>\n",
              "      <th>AccOTHERfactorsUNINVOLVEDVEHICLE-Status</th>\n",
              "      <th>AccOTHERfactorsOTHER-Status</th>\n",
              "      <th>AccOTHERfactorsNONEAPPARENT-Status</th>\n",
              "      <th>AccOTHERfactorsRUNAWAYVEHICLE-Status</th>\n",
              "    </tr>\n",
              "  </thead>\n",
              "  <tbody>\n",
              "    <tr>\n",
              "      <th>0</th>\n",
              "      <td>Aimotive , Inc</td>\n",
              "      <td>2010.0</td>\n",
              "      <td>Toyota</td>\n",
              "      <td>Prius</td>\n",
              "      <td>CA</td>\n",
              "      <td>94043.0</td>\n",
              "      <td>CA</td>\n",
              "      <td>Santa Clara</td>\n",
              "      <td>View</td>\n",
              "      <td>SB , 101 US Freeway Old Middlefield Rd x Shorline</td>\n",
              "      <td>...</td>\n",
              "      <td>AccOTHERfactorsSTOPGOTRAFFIC-No</td>\n",
              "      <td>AccOTHERfactorsENTERINGORLEAVINGRAMP-No</td>\n",
              "      <td>AccOTHERfactorsPREVIOUSCOLLISION-No</td>\n",
              "      <td>AccOTHERfactorsUNFAMILIARWITHROAD-No</td>\n",
              "      <td>AccOTHERfactorsDEFECTIVEWEHEQUIPYes-No</td>\n",
              "      <td>AccOTHERfactorsDEFECTIVEWEHEQUIPNo-No</td>\n",
              "      <td>AccOTHERfactorsUNINVOLVEDVEHICLE-No</td>\n",
              "      <td>AccOTHERfactorsOTHER-No</td>\n",
              "      <td>AccOTHERfactorsNONEAPPARENT-No</td>\n",
              "      <td>AccOTHERfactorsRUNAWAYVEHICLE-No</td>\n",
              "    </tr>\n",
              "    <tr>\n",
              "      <th>1</th>\n",
              "      <td>Apple Inc</td>\n",
              "      <td>2017.0</td>\n",
              "      <td>Lexus</td>\n",
              "      <td>RX 450h</td>\n",
              "      <td>California</td>\n",
              "      <td>94087.0</td>\n",
              "      <td>CA</td>\n",
              "      <td>Santa Clara</td>\n",
              "      <td></td>\n",
              "      <td>Sunnyvale Community Center Park Entrance</td>\n",
              "      <td>...</td>\n",
              "      <td>AccOTHERfactorsSTOPGOTRAFFIC-No</td>\n",
              "      <td>AccOTHERfactorsENTERINGORLEAVINGRAMP-No</td>\n",
              "      <td>AccOTHERfactorsPREVIOUSCOLLISION-No</td>\n",
              "      <td>AccOTHERfactorsUNFAMILIARWITHROAD-No</td>\n",
              "      <td>AccOTHERfactorsDEFECTIVEWEHEQUIPYes-No</td>\n",
              "      <td>AccOTHERfactorsDEFECTIVEWEHEQUIPNo-No</td>\n",
              "      <td>AccOTHERfactorsUNINVOLVEDVEHICLE-No</td>\n",
              "      <td>AccOTHERfactorsOTHER-No</td>\n",
              "      <td>AccOTHERfactorsNONEAPPARENT-No</td>\n",
              "      <td>AccOTHERfactorsRUNAWAYVEHICLE-No</td>\n",
              "    </tr>\n",
              "    <tr>\n",
              "      <th>2</th>\n",
              "      <td>Aurora Innovation Inc</td>\n",
              "      <td>2017.0</td>\n",
              "      <td>Lincoln</td>\n",
              "      <td>MKZ</td>\n",
              "      <td>California</td>\n",
              "      <td>94107.0</td>\n",
              "      <td>CA</td>\n",
              "      <td>San Francisco</td>\n",
              "      <td>Francisco</td>\n",
              "      <td>Townsend 3rd</td>\n",
              "      <td>...</td>\n",
              "      <td>AccOTHERfactorsSTOPGOTRAFFIC-No</td>\n",
              "      <td>AccOTHERfactorsENTERINGORLEAVINGRAMP-No</td>\n",
              "      <td>AccOTHERfactorsPREVIOUSCOLLISION-No</td>\n",
              "      <td>AccOTHERfactorsUNFAMILIARWITHROAD-No</td>\n",
              "      <td>AccOTHERfactorsDEFECTIVEWEHEQUIPYes-No</td>\n",
              "      <td>AccOTHERfactorsDEFECTIVEWEHEQUIPNo-Yes</td>\n",
              "      <td>AccOTHERfactorsUNINVOLVEDVEHICLE-No</td>\n",
              "      <td>AccOTHERfactorsOTHER-No</td>\n",
              "      <td>AccOTHERfactorsNONEAPPARENT-No</td>\n",
              "      <td>AccOTHERfactorsRUNAWAYVEHICLE-No</td>\n",
              "    </tr>\n",
              "    <tr>\n",
              "      <th>3</th>\n",
              "      <td>Cruise LLC</td>\n",
              "      <td>2020.0</td>\n",
              "      <td>Cheverolet</td>\n",
              "      <td>Bolt</td>\n",
              "      <td>CA</td>\n",
              "      <td>94109.0</td>\n",
              "      <td>CA</td>\n",
              "      <td>San Francisco</td>\n",
              "      <td>Francisco</td>\n",
              "      <td>Hyde St Sutter</td>\n",
              "      <td>...</td>\n",
              "      <td>AccOTHERfactorsSTOPGOTRAFFIC-No</td>\n",
              "      <td>AccOTHERfactorsENTERINGORLEAVINGRAMP-No</td>\n",
              "      <td>AccOTHERfactorsPREVIOUSCOLLISION-No</td>\n",
              "      <td>AccOTHERfactorsUNFAMILIARWITHROAD-No</td>\n",
              "      <td>AccOTHERfactorsDEFECTIVEWEHEQUIPYes-No</td>\n",
              "      <td>AccOTHERfactorsDEFECTIVEWEHEQUIPNo-No</td>\n",
              "      <td>AccOTHERfactorsUNINVOLVEDVEHICLE-No</td>\n",
              "      <td>AccOTHERfactorsOTHER-No</td>\n",
              "      <td>AccOTHERfactorsNONEAPPARENT-No</td>\n",
              "      <td>AccOTHERfactorsRUNAWAYVEHICLE-No</td>\n",
              "    </tr>\n",
              "    <tr>\n",
              "      <th>4</th>\n",
              "      <td>Cruise LLC</td>\n",
              "      <td>2020.0</td>\n",
              "      <td>Chevrolet</td>\n",
              "      <td>Bolt</td>\n",
              "      <td>CA</td>\n",
              "      <td>94111.0</td>\n",
              "      <td>CA</td>\n",
              "      <td>San Francisco</td>\n",
              "      <td>Francisco</td>\n",
              "      <td>The Embarcadero Battery St</td>\n",
              "      <td>...</td>\n",
              "      <td>AccOTHERfactorsSTOPGOTRAFFIC-No</td>\n",
              "      <td>AccOTHERfactorsENTERINGORLEAVINGRAMP-No</td>\n",
              "      <td>AccOTHERfactorsPREVIOUSCOLLISION-No</td>\n",
              "      <td>AccOTHERfactorsUNFAMILIARWITHROAD-No</td>\n",
              "      <td>AccOTHERfactorsDEFECTIVEWEHEQUIPYes-No</td>\n",
              "      <td>AccOTHERfactorsDEFECTIVEWEHEQUIPNo-No</td>\n",
              "      <td>AccOTHERfactorsUNINVOLVEDVEHICLE-No</td>\n",
              "      <td>AccOTHERfactorsOTHER-No</td>\n",
              "      <td>AccOTHERfactorsNONEAPPARENT-No</td>\n",
              "      <td>AccOTHERfactorsRUNAWAYVEHICLE-No</td>\n",
              "    </tr>\n",
              "    <tr>\n",
              "      <th>...</th>\n",
              "      <td>...</td>\n",
              "      <td>...</td>\n",
              "      <td>...</td>\n",
              "      <td>...</td>\n",
              "      <td>...</td>\n",
              "      <td>...</td>\n",
              "      <td>...</td>\n",
              "      <td>...</td>\n",
              "      <td>...</td>\n",
              "      <td>...</td>\n",
              "      <td>...</td>\n",
              "      <td>...</td>\n",
              "      <td>...</td>\n",
              "      <td>...</td>\n",
              "      <td>...</td>\n",
              "      <td>...</td>\n",
              "      <td>...</td>\n",
              "      <td>...</td>\n",
              "      <td>...</td>\n",
              "      <td>...</td>\n",
              "      <td>...</td>\n",
              "    </tr>\n",
              "    <tr>\n",
              "      <th>322</th>\n",
              "      <td>Zoox Inc</td>\n",
              "      <td>2016.0</td>\n",
              "      <td>Toyota</td>\n",
              "      <td>Highlander</td>\n",
              "      <td>CA</td>\n",
              "      <td>94105.0</td>\n",
              "      <td>CA</td>\n",
              "      <td>San Francisco</td>\n",
              "      <td>Francisco</td>\n",
              "      <td>Folsom St near Essex</td>\n",
              "      <td>...</td>\n",
              "      <td>AccOTHERfactorsSTOPGOTRAFFIC-No</td>\n",
              "      <td>AccOTHERfactorsENTERINGORLEAVINGRAMP-No</td>\n",
              "      <td>AccOTHERfactorsPREVIOUSCOLLISION-No</td>\n",
              "      <td>AccOTHERfactorsUNFAMILIARWITHROAD-No</td>\n",
              "      <td>AccOTHERfactorsDEFECTIVEWEHEQUIPYes-No</td>\n",
              "      <td>AccOTHERfactorsDEFECTIVEWEHEQUIPNo-No</td>\n",
              "      <td>AccOTHERfactorsUNINVOLVEDVEHICLE-No</td>\n",
              "      <td>AccOTHERfactorsOTHER-No</td>\n",
              "      <td>AccOTHERfactorsNONEAPPARENT-No</td>\n",
              "      <td>AccOTHERfactorsRUNAWAYVEHICLE-No</td>\n",
              "    </tr>\n",
              "    <tr>\n",
              "      <th>323</th>\n",
              "      <td>Zoox Inc</td>\n",
              "      <td>2016.0</td>\n",
              "      <td>Toyota</td>\n",
              "      <td>Highlander</td>\n",
              "      <td>CA</td>\n",
              "      <td>94103.0</td>\n",
              "      <td>CA</td>\n",
              "      <td>San Francisco</td>\n",
              "      <td>Francisco</td>\n",
              "      <td>10th Street Folsom Intersection</td>\n",
              "      <td>...</td>\n",
              "      <td>AccOTHERfactorsSTOPGOTRAFFIC-No</td>\n",
              "      <td>AccOTHERfactorsENTERINGORLEAVINGRAMP-No</td>\n",
              "      <td>AccOTHERfactorsPREVIOUSCOLLISION-No</td>\n",
              "      <td>AccOTHERfactorsUNFAMILIARWITHROAD-No</td>\n",
              "      <td>AccOTHERfactorsDEFECTIVEWEHEQUIPYes-No</td>\n",
              "      <td>AccOTHERfactorsDEFECTIVEWEHEQUIPNo-No</td>\n",
              "      <td>AccOTHERfactorsUNINVOLVEDVEHICLE-No</td>\n",
              "      <td>AccOTHERfactorsOTHER-No</td>\n",
              "      <td>AccOTHERfactorsNONEAPPARENT-No</td>\n",
              "      <td>AccOTHERfactorsRUNAWAYVEHICLE-No</td>\n",
              "    </tr>\n",
              "    <tr>\n",
              "      <th>324</th>\n",
              "      <td>Zoox Inc</td>\n",
              "      <td>2016.0</td>\n",
              "      <td>Toyota</td>\n",
              "      <td>Highlander</td>\n",
              "      <td>CA</td>\n",
              "      <td>94133.0</td>\n",
              "      <td>CA</td>\n",
              "      <td>San Francisco</td>\n",
              "      <td>Francisco</td>\n",
              "      <td>Pacific Ave , Kearny St Columbus Intersectio</td>\n",
              "      <td>...</td>\n",
              "      <td>AccOTHERfactorsSTOPGOTRAFFIC-No</td>\n",
              "      <td>AccOTHERfactorsENTERINGORLEAVINGRAMP-No</td>\n",
              "      <td>AccOTHERfactorsPREVIOUSCOLLISION-No</td>\n",
              "      <td>AccOTHERfactorsUNFAMILIARWITHROAD-No</td>\n",
              "      <td>AccOTHERfactorsDEFECTIVEWEHEQUIPYes-No</td>\n",
              "      <td>AccOTHERfactorsDEFECTIVEWEHEQUIPNo-No</td>\n",
              "      <td>AccOTHERfactorsUNINVOLVEDVEHICLE-No</td>\n",
              "      <td>AccOTHERfactorsOTHER-No</td>\n",
              "      <td>AccOTHERfactorsNONEAPPARENT-No</td>\n",
              "      <td>AccOTHERfactorsRUNAWAYVEHICLE-No</td>\n",
              "    </tr>\n",
              "    <tr>\n",
              "      <th>325</th>\n",
              "      <td>Zoox Inc</td>\n",
              "      <td>2016.0</td>\n",
              "      <td>Toyota</td>\n",
              "      <td>Highlander</td>\n",
              "      <td>CA</td>\n",
              "      <td>94133.0</td>\n",
              "      <td>CA</td>\n",
              "      <td>San Francisco</td>\n",
              "      <td>Francisco</td>\n",
              "      <td>11th Street Harrison Intersection</td>\n",
              "      <td>...</td>\n",
              "      <td>AccOTHERfactorsSTOPGOTRAFFIC-No</td>\n",
              "      <td>AccOTHERfactorsENTERINGORLEAVINGRAMP-No</td>\n",
              "      <td>AccOTHERfactorsPREVIOUSCOLLISION-No</td>\n",
              "      <td>AccOTHERfactorsUNFAMILIARWITHROAD-No</td>\n",
              "      <td>AccOTHERfactorsDEFECTIVEWEHEQUIPYes-No</td>\n",
              "      <td>AccOTHERfactorsDEFECTIVEWEHEQUIPNo-No</td>\n",
              "      <td>AccOTHERfactorsUNINVOLVEDVEHICLE-No</td>\n",
              "      <td>AccOTHERfactorsOTHER-No</td>\n",
              "      <td>AccOTHERfactorsNONEAPPARENT-No</td>\n",
              "      <td>AccOTHERfactorsRUNAWAYVEHICLE-No</td>\n",
              "    </tr>\n",
              "    <tr>\n",
              "      <th>326</th>\n",
              "      <td>Zoox Inc</td>\n",
              "      <td>2016.0</td>\n",
              "      <td>Toyota</td>\n",
              "      <td>Highlander</td>\n",
              "      <td>CA</td>\n",
              "      <td>94102.0</td>\n",
              "      <td>CA</td>\n",
              "      <td>San Francisco</td>\n",
              "      <td>Francisco</td>\n",
              "      <td>Mason St Ellis Intersection</td>\n",
              "      <td>...</td>\n",
              "      <td>AccOTHERfactorsSTOPGOTRAFFIC-No</td>\n",
              "      <td>AccOTHERfactorsENTERINGORLEAVINGRAMP-No</td>\n",
              "      <td>AccOTHERfactorsPREVIOUSCOLLISION-No</td>\n",
              "      <td>AccOTHERfactorsUNFAMILIARWITHROAD-No</td>\n",
              "      <td>AccOTHERfactorsDEFECTIVEWEHEQUIPYes-No</td>\n",
              "      <td>AccOTHERfactorsDEFECTIVEWEHEQUIPNo-No</td>\n",
              "      <td>AccOTHERfactorsUNINVOLVEDVEHICLE-No</td>\n",
              "      <td>AccOTHERfactorsOTHER-No</td>\n",
              "      <td>AccOTHERfactorsNONEAPPARENT-No</td>\n",
              "      <td>AccOTHERfactorsRUNAWAYVEHICLE-No</td>\n",
              "    </tr>\n",
              "  </tbody>\n",
              "</table>\n",
              "<p>327 rows × 194 columns</p>\n",
              "</div>\n",
              "    <div class=\"colab-df-buttons\">\n",
              "\n",
              "  <div class=\"colab-df-container\">\n",
              "    <button class=\"colab-df-convert\" onclick=\"convertToInteractive('df-cfc677e8-7d5f-41f5-a283-5fea0a1ffa46')\"\n",
              "            title=\"Convert this dataframe to an interactive table.\"\n",
              "            style=\"display:none;\">\n",
              "\n",
              "  <svg xmlns=\"http://www.w3.org/2000/svg\" height=\"24px\" viewBox=\"0 -960 960 960\">\n",
              "    <path d=\"M120-120v-720h720v720H120Zm60-500h600v-160H180v160Zm220 220h160v-160H400v160Zm0 220h160v-160H400v160ZM180-400h160v-160H180v160Zm440 0h160v-160H620v160ZM180-180h160v-160H180v160Zm440 0h160v-160H620v160Z\"/>\n",
              "  </svg>\n",
              "    </button>\n",
              "\n",
              "  <style>\n",
              "    .colab-df-container {\n",
              "      display:flex;\n",
              "      gap: 12px;\n",
              "    }\n",
              "\n",
              "    .colab-df-convert {\n",
              "      background-color: #E8F0FE;\n",
              "      border: none;\n",
              "      border-radius: 50%;\n",
              "      cursor: pointer;\n",
              "      display: none;\n",
              "      fill: #1967D2;\n",
              "      height: 32px;\n",
              "      padding: 0 0 0 0;\n",
              "      width: 32px;\n",
              "    }\n",
              "\n",
              "    .colab-df-convert:hover {\n",
              "      background-color: #E2EBFA;\n",
              "      box-shadow: 0px 1px 2px rgba(60, 64, 67, 0.3), 0px 1px 3px 1px rgba(60, 64, 67, 0.15);\n",
              "      fill: #174EA6;\n",
              "    }\n",
              "\n",
              "    .colab-df-buttons div {\n",
              "      margin-bottom: 4px;\n",
              "    }\n",
              "\n",
              "    [theme=dark] .colab-df-convert {\n",
              "      background-color: #3B4455;\n",
              "      fill: #D2E3FC;\n",
              "    }\n",
              "\n",
              "    [theme=dark] .colab-df-convert:hover {\n",
              "      background-color: #434B5C;\n",
              "      box-shadow: 0px 1px 3px 1px rgba(0, 0, 0, 0.15);\n",
              "      filter: drop-shadow(0px 1px 2px rgba(0, 0, 0, 0.3));\n",
              "      fill: #FFFFFF;\n",
              "    }\n",
              "  </style>\n",
              "\n",
              "    <script>\n",
              "      const buttonEl =\n",
              "        document.querySelector('#df-cfc677e8-7d5f-41f5-a283-5fea0a1ffa46 button.colab-df-convert');\n",
              "      buttonEl.style.display =\n",
              "        google.colab.kernel.accessAllowed ? 'block' : 'none';\n",
              "\n",
              "      async function convertToInteractive(key) {\n",
              "        const element = document.querySelector('#df-cfc677e8-7d5f-41f5-a283-5fea0a1ffa46');\n",
              "        const dataTable =\n",
              "          await google.colab.kernel.invokeFunction('convertToInteractive',\n",
              "                                                    [key], {});\n",
              "        if (!dataTable) return;\n",
              "\n",
              "        const docLinkHtml = 'Like what you see? Visit the ' +\n",
              "          '<a target=\"_blank\" href=https://colab.research.google.com/notebooks/data_table.ipynb>data table notebook</a>'\n",
              "          + ' to learn more about interactive tables.';\n",
              "        element.innerHTML = '';\n",
              "        dataTable['output_type'] = 'display_data';\n",
              "        await google.colab.output.renderOutput(dataTable, element);\n",
              "        const docLink = document.createElement('div');\n",
              "        docLink.innerHTML = docLinkHtml;\n",
              "        element.appendChild(docLink);\n",
              "      }\n",
              "    </script>\n",
              "  </div>\n",
              "\n",
              "\n",
              "<div id=\"df-66a2b6f1-a5bc-4e1e-a9a5-c174718a2f68\">\n",
              "  <button class=\"colab-df-quickchart\" onclick=\"quickchart('df-66a2b6f1-a5bc-4e1e-a9a5-c174718a2f68')\"\n",
              "            title=\"Suggest charts\"\n",
              "            style=\"display:none;\">\n",
              "\n",
              "<svg xmlns=\"http://www.w3.org/2000/svg\" height=\"24px\"viewBox=\"0 0 24 24\"\n",
              "     width=\"24px\">\n",
              "    <g>\n",
              "        <path d=\"M19 3H5c-1.1 0-2 .9-2 2v14c0 1.1.9 2 2 2h14c1.1 0 2-.9 2-2V5c0-1.1-.9-2-2-2zM9 17H7v-7h2v7zm4 0h-2V7h2v10zm4 0h-2v-4h2v4z\"/>\n",
              "    </g>\n",
              "</svg>\n",
              "  </button>\n",
              "\n",
              "<style>\n",
              "  .colab-df-quickchart {\n",
              "      --bg-color: #E8F0FE;\n",
              "      --fill-color: #1967D2;\n",
              "      --hover-bg-color: #E2EBFA;\n",
              "      --hover-fill-color: #174EA6;\n",
              "      --disabled-fill-color: #AAA;\n",
              "      --disabled-bg-color: #DDD;\n",
              "  }\n",
              "\n",
              "  [theme=dark] .colab-df-quickchart {\n",
              "      --bg-color: #3B4455;\n",
              "      --fill-color: #D2E3FC;\n",
              "      --hover-bg-color: #434B5C;\n",
              "      --hover-fill-color: #FFFFFF;\n",
              "      --disabled-bg-color: #3B4455;\n",
              "      --disabled-fill-color: #666;\n",
              "  }\n",
              "\n",
              "  .colab-df-quickchart {\n",
              "    background-color: var(--bg-color);\n",
              "    border: none;\n",
              "    border-radius: 50%;\n",
              "    cursor: pointer;\n",
              "    display: none;\n",
              "    fill: var(--fill-color);\n",
              "    height: 32px;\n",
              "    padding: 0;\n",
              "    width: 32px;\n",
              "  }\n",
              "\n",
              "  .colab-df-quickchart:hover {\n",
              "    background-color: var(--hover-bg-color);\n",
              "    box-shadow: 0 1px 2px rgba(60, 64, 67, 0.3), 0 1px 3px 1px rgba(60, 64, 67, 0.15);\n",
              "    fill: var(--button-hover-fill-color);\n",
              "  }\n",
              "\n",
              "  .colab-df-quickchart-complete:disabled,\n",
              "  .colab-df-quickchart-complete:disabled:hover {\n",
              "    background-color: var(--disabled-bg-color);\n",
              "    fill: var(--disabled-fill-color);\n",
              "    box-shadow: none;\n",
              "  }\n",
              "\n",
              "  .colab-df-spinner {\n",
              "    border: 2px solid var(--fill-color);\n",
              "    border-color: transparent;\n",
              "    border-bottom-color: var(--fill-color);\n",
              "    animation:\n",
              "      spin 1s steps(1) infinite;\n",
              "  }\n",
              "\n",
              "  @keyframes spin {\n",
              "    0% {\n",
              "      border-color: transparent;\n",
              "      border-bottom-color: var(--fill-color);\n",
              "      border-left-color: var(--fill-color);\n",
              "    }\n",
              "    20% {\n",
              "      border-color: transparent;\n",
              "      border-left-color: var(--fill-color);\n",
              "      border-top-color: var(--fill-color);\n",
              "    }\n",
              "    30% {\n",
              "      border-color: transparent;\n",
              "      border-left-color: var(--fill-color);\n",
              "      border-top-color: var(--fill-color);\n",
              "      border-right-color: var(--fill-color);\n",
              "    }\n",
              "    40% {\n",
              "      border-color: transparent;\n",
              "      border-right-color: var(--fill-color);\n",
              "      border-top-color: var(--fill-color);\n",
              "    }\n",
              "    60% {\n",
              "      border-color: transparent;\n",
              "      border-right-color: var(--fill-color);\n",
              "    }\n",
              "    80% {\n",
              "      border-color: transparent;\n",
              "      border-right-color: var(--fill-color);\n",
              "      border-bottom-color: var(--fill-color);\n",
              "    }\n",
              "    90% {\n",
              "      border-color: transparent;\n",
              "      border-bottom-color: var(--fill-color);\n",
              "    }\n",
              "  }\n",
              "</style>\n",
              "\n",
              "  <script>\n",
              "    async function quickchart(key) {\n",
              "      const quickchartButtonEl =\n",
              "        document.querySelector('#' + key + ' button');\n",
              "      quickchartButtonEl.disabled = true;  // To prevent multiple clicks.\n",
              "      quickchartButtonEl.classList.add('colab-df-spinner');\n",
              "      try {\n",
              "        const charts = await google.colab.kernel.invokeFunction(\n",
              "            'suggestCharts', [key], {});\n",
              "      } catch (error) {\n",
              "        console.error('Error during call to suggestCharts:', error);\n",
              "      }\n",
              "      quickchartButtonEl.classList.remove('colab-df-spinner');\n",
              "      quickchartButtonEl.classList.add('colab-df-quickchart-complete');\n",
              "    }\n",
              "    (() => {\n",
              "      let quickchartButtonEl =\n",
              "        document.querySelector('#df-66a2b6f1-a5bc-4e1e-a9a5-c174718a2f68 button');\n",
              "      quickchartButtonEl.style.display =\n",
              "        google.colab.kernel.accessAllowed ? 'block' : 'none';\n",
              "    })();\n",
              "  </script>\n",
              "</div>\n",
              "    </div>\n",
              "  </div>\n"
            ],
            "text/plain": [
              "           AV_manufacturer  AVyear      AVmake     AVmodel    AVregloc  \\\n",
              "0           Aimotive , Inc  2010.0      Toyota       Prius          CA   \n",
              "1                Apple Inc  2017.0       Lexus     RX 450h  California   \n",
              "2    Aurora Innovation Inc  2017.0     Lincoln         MKZ  California   \n",
              "3               Cruise LLC  2020.0  Cheverolet        Bolt          CA   \n",
              "4               Cruise LLC  2020.0   Chevrolet        Bolt          CA   \n",
              "..                     ...     ...         ...         ...         ...   \n",
              "322               Zoox Inc  2016.0      Toyota  Highlander          CA   \n",
              "323               Zoox Inc  2016.0      Toyota  Highlander          CA   \n",
              "324               Zoox Inc  2016.0      Toyota  Highlander          CA   \n",
              "325               Zoox Inc  2016.0      Toyota  Highlander          CA   \n",
              "326               Zoox Inc  2016.0      Toyota  Highlander          CA   \n",
              "\n",
              "    AccidentZIPcode AccidentSTATE AccidentCOUNTY AccidentCITY  \\\n",
              "0           94043.0            CA    Santa Clara         View   \n",
              "1           94087.0            CA    Santa Clara                \n",
              "2           94107.0            CA  San Francisco    Francisco   \n",
              "3           94109.0            CA  San Francisco    Francisco   \n",
              "4           94111.0            CA  San Francisco    Francisco   \n",
              "..              ...           ...            ...          ...   \n",
              "322         94105.0            CA  San Francisco    Francisco   \n",
              "323         94103.0            CA  San Francisco    Francisco   \n",
              "324         94133.0            CA  San Francisco    Francisco   \n",
              "325         94133.0            CA  San Francisco    Francisco   \n",
              "326         94102.0            CA  San Francisco    Francisco   \n",
              "\n",
              "                                       AccidentADDRESS  ...  \\\n",
              "0    SB , 101 US Freeway Old Middlefield Rd x Shorline  ...   \n",
              "1             Sunnyvale Community Center Park Entrance  ...   \n",
              "2                                         Townsend 3rd  ...   \n",
              "3                                       Hyde St Sutter  ...   \n",
              "4                           The Embarcadero Battery St  ...   \n",
              "..                                                 ...  ...   \n",
              "322                               Folsom St near Essex  ...   \n",
              "323                    10th Street Folsom Intersection  ...   \n",
              "324       Pacific Ave , Kearny St Columbus Intersectio  ...   \n",
              "325                  11th Street Harrison Intersection  ...   \n",
              "326                        Mason St Ellis Intersection  ...   \n",
              "\n",
              "    AccOTHERfactorsSTOPGOTRAFFIC-Status  \\\n",
              "0       AccOTHERfactorsSTOPGOTRAFFIC-No   \n",
              "1       AccOTHERfactorsSTOPGOTRAFFIC-No   \n",
              "2       AccOTHERfactorsSTOPGOTRAFFIC-No   \n",
              "3       AccOTHERfactorsSTOPGOTRAFFIC-No   \n",
              "4       AccOTHERfactorsSTOPGOTRAFFIC-No   \n",
              "..                                  ...   \n",
              "322     AccOTHERfactorsSTOPGOTRAFFIC-No   \n",
              "323     AccOTHERfactorsSTOPGOTRAFFIC-No   \n",
              "324     AccOTHERfactorsSTOPGOTRAFFIC-No   \n",
              "325     AccOTHERfactorsSTOPGOTRAFFIC-No   \n",
              "326     AccOTHERfactorsSTOPGOTRAFFIC-No   \n",
              "\n",
              "    AccOTHERfactorsENTERINGORLEAVINGRAMP-Status  \\\n",
              "0       AccOTHERfactorsENTERINGORLEAVINGRAMP-No   \n",
              "1       AccOTHERfactorsENTERINGORLEAVINGRAMP-No   \n",
              "2       AccOTHERfactorsENTERINGORLEAVINGRAMP-No   \n",
              "3       AccOTHERfactorsENTERINGORLEAVINGRAMP-No   \n",
              "4       AccOTHERfactorsENTERINGORLEAVINGRAMP-No   \n",
              "..                                          ...   \n",
              "322     AccOTHERfactorsENTERINGORLEAVINGRAMP-No   \n",
              "323     AccOTHERfactorsENTERINGORLEAVINGRAMP-No   \n",
              "324     AccOTHERfactorsENTERINGORLEAVINGRAMP-No   \n",
              "325     AccOTHERfactorsENTERINGORLEAVINGRAMP-No   \n",
              "326     AccOTHERfactorsENTERINGORLEAVINGRAMP-No   \n",
              "\n",
              "    AccOTHERfactorsPREVIOUSCOLLISION-Status  \\\n",
              "0       AccOTHERfactorsPREVIOUSCOLLISION-No   \n",
              "1       AccOTHERfactorsPREVIOUSCOLLISION-No   \n",
              "2       AccOTHERfactorsPREVIOUSCOLLISION-No   \n",
              "3       AccOTHERfactorsPREVIOUSCOLLISION-No   \n",
              "4       AccOTHERfactorsPREVIOUSCOLLISION-No   \n",
              "..                                      ...   \n",
              "322     AccOTHERfactorsPREVIOUSCOLLISION-No   \n",
              "323     AccOTHERfactorsPREVIOUSCOLLISION-No   \n",
              "324     AccOTHERfactorsPREVIOUSCOLLISION-No   \n",
              "325     AccOTHERfactorsPREVIOUSCOLLISION-No   \n",
              "326     AccOTHERfactorsPREVIOUSCOLLISION-No   \n",
              "\n",
              "    AccOTHERfactorsUNFAMILIARWITHROAD-Status  \\\n",
              "0       AccOTHERfactorsUNFAMILIARWITHROAD-No   \n",
              "1       AccOTHERfactorsUNFAMILIARWITHROAD-No   \n",
              "2       AccOTHERfactorsUNFAMILIARWITHROAD-No   \n",
              "3       AccOTHERfactorsUNFAMILIARWITHROAD-No   \n",
              "4       AccOTHERfactorsUNFAMILIARWITHROAD-No   \n",
              "..                                       ...   \n",
              "322     AccOTHERfactorsUNFAMILIARWITHROAD-No   \n",
              "323     AccOTHERfactorsUNFAMILIARWITHROAD-No   \n",
              "324     AccOTHERfactorsUNFAMILIARWITHROAD-No   \n",
              "325     AccOTHERfactorsUNFAMILIARWITHROAD-No   \n",
              "326     AccOTHERfactorsUNFAMILIARWITHROAD-No   \n",
              "\n",
              "    AccOTHERfactorsDEFECTIVEWEHEQUIPYes-Status  \\\n",
              "0       AccOTHERfactorsDEFECTIVEWEHEQUIPYes-No   \n",
              "1       AccOTHERfactorsDEFECTIVEWEHEQUIPYes-No   \n",
              "2       AccOTHERfactorsDEFECTIVEWEHEQUIPYes-No   \n",
              "3       AccOTHERfactorsDEFECTIVEWEHEQUIPYes-No   \n",
              "4       AccOTHERfactorsDEFECTIVEWEHEQUIPYes-No   \n",
              "..                                         ...   \n",
              "322     AccOTHERfactorsDEFECTIVEWEHEQUIPYes-No   \n",
              "323     AccOTHERfactorsDEFECTIVEWEHEQUIPYes-No   \n",
              "324     AccOTHERfactorsDEFECTIVEWEHEQUIPYes-No   \n",
              "325     AccOTHERfactorsDEFECTIVEWEHEQUIPYes-No   \n",
              "326     AccOTHERfactorsDEFECTIVEWEHEQUIPYes-No   \n",
              "\n",
              "    AccOTHERfactorsDEFECTIVEWEHEQUIPNo-Status  \\\n",
              "0       AccOTHERfactorsDEFECTIVEWEHEQUIPNo-No   \n",
              "1       AccOTHERfactorsDEFECTIVEWEHEQUIPNo-No   \n",
              "2      AccOTHERfactorsDEFECTIVEWEHEQUIPNo-Yes   \n",
              "3       AccOTHERfactorsDEFECTIVEWEHEQUIPNo-No   \n",
              "4       AccOTHERfactorsDEFECTIVEWEHEQUIPNo-No   \n",
              "..                                        ...   \n",
              "322     AccOTHERfactorsDEFECTIVEWEHEQUIPNo-No   \n",
              "323     AccOTHERfactorsDEFECTIVEWEHEQUIPNo-No   \n",
              "324     AccOTHERfactorsDEFECTIVEWEHEQUIPNo-No   \n",
              "325     AccOTHERfactorsDEFECTIVEWEHEQUIPNo-No   \n",
              "326     AccOTHERfactorsDEFECTIVEWEHEQUIPNo-No   \n",
              "\n",
              "    AccOTHERfactorsUNINVOLVEDVEHICLE-Status AccOTHERfactorsOTHER-Status  \\\n",
              "0       AccOTHERfactorsUNINVOLVEDVEHICLE-No     AccOTHERfactorsOTHER-No   \n",
              "1       AccOTHERfactorsUNINVOLVEDVEHICLE-No     AccOTHERfactorsOTHER-No   \n",
              "2       AccOTHERfactorsUNINVOLVEDVEHICLE-No     AccOTHERfactorsOTHER-No   \n",
              "3       AccOTHERfactorsUNINVOLVEDVEHICLE-No     AccOTHERfactorsOTHER-No   \n",
              "4       AccOTHERfactorsUNINVOLVEDVEHICLE-No     AccOTHERfactorsOTHER-No   \n",
              "..                                      ...                         ...   \n",
              "322     AccOTHERfactorsUNINVOLVEDVEHICLE-No     AccOTHERfactorsOTHER-No   \n",
              "323     AccOTHERfactorsUNINVOLVEDVEHICLE-No     AccOTHERfactorsOTHER-No   \n",
              "324     AccOTHERfactorsUNINVOLVEDVEHICLE-No     AccOTHERfactorsOTHER-No   \n",
              "325     AccOTHERfactorsUNINVOLVEDVEHICLE-No     AccOTHERfactorsOTHER-No   \n",
              "326     AccOTHERfactorsUNINVOLVEDVEHICLE-No     AccOTHERfactorsOTHER-No   \n",
              "\n",
              "    AccOTHERfactorsNONEAPPARENT-Status AccOTHERfactorsRUNAWAYVEHICLE-Status  \n",
              "0       AccOTHERfactorsNONEAPPARENT-No     AccOTHERfactorsRUNAWAYVEHICLE-No  \n",
              "1       AccOTHERfactorsNONEAPPARENT-No     AccOTHERfactorsRUNAWAYVEHICLE-No  \n",
              "2       AccOTHERfactorsNONEAPPARENT-No     AccOTHERfactorsRUNAWAYVEHICLE-No  \n",
              "3       AccOTHERfactorsNONEAPPARENT-No     AccOTHERfactorsRUNAWAYVEHICLE-No  \n",
              "4       AccOTHERfactorsNONEAPPARENT-No     AccOTHERfactorsRUNAWAYVEHICLE-No  \n",
              "..                                 ...                                  ...  \n",
              "322     AccOTHERfactorsNONEAPPARENT-No     AccOTHERfactorsRUNAWAYVEHICLE-No  \n",
              "323     AccOTHERfactorsNONEAPPARENT-No     AccOTHERfactorsRUNAWAYVEHICLE-No  \n",
              "324     AccOTHERfactorsNONEAPPARENT-No     AccOTHERfactorsRUNAWAYVEHICLE-No  \n",
              "325     AccOTHERfactorsNONEAPPARENT-No     AccOTHERfactorsRUNAWAYVEHICLE-No  \n",
              "326     AccOTHERfactorsNONEAPPARENT-No     AccOTHERfactorsRUNAWAYVEHICLE-No  \n",
              "\n",
              "[327 rows x 194 columns]"
            ]
          },
          "execution_count": 3,
          "metadata": {},
          "output_type": "execute_result"
        }
      ],
      "source": [
        "import pandas as pd\n",
        "\n",
        "df=pd.read_csv(\"ProcessedDataset.csv\")\n",
        "df=df.drop(df.columns[0], axis=1)\n",
        "df\n"
      ]
    },
    {
      "cell_type": "code",
      "execution_count": null,
      "metadata": {
        "id": "sVji17PdU6Al"
      },
      "outputs": [],
      "source": [
        "\n",
        "df['FullText'] =  df.apply(lambda row: ', '.join([f'{col}:{value}' for col, value in zip(df.columns, row) if col != 'AccDETAILS']), axis=1)\n",
        "\n",
        "dfnew=pd.DataFrame()\n",
        "def format_string(row):\n",
        "    return f\"<s>[INST] {row['FullText']} [/INST] {row['AccDETAILS']} </s>\"\n",
        "\n",
        "# Apply the function to each row\n",
        "dfnew['Formatted'] = df.apply(format_string, axis=1)\n",
        "\n",
        "# Display the DataFrame with the new 'Formatted' column\n",
        "dfnew[['Formatted']].iloc[0].values"
      ]
    },
    {
      "cell_type": "code",
      "execution_count": null,
      "metadata": {
        "id": "8xXADsJuVnl6"
      },
      "outputs": [],
      "source": [
        "dfnew.to_csv(\"llamaformatted.csv\")"
      ]
    },
    {
      "cell_type": "markdown",
      "metadata": {
        "id": "8vwn6xGIi03f"
      },
      "source": [
        "#**Step 2: Import All the Required Libraries**"
      ]
    },
    {
      "cell_type": "code",
      "execution_count": null,
      "metadata": {
        "colab": {
          "base_uri": "https://localhost:8080/"
        },
        "id": "nAMzy_0FtaUZ",
        "outputId": "13367d54-0346-4d0f-f3de-d3c1e4db162f"
      },
      "outputs": [
        {
          "name": "stderr",
          "output_type": "stream",
          "text": [
            "/usr/local/lib/python3.10/dist-packages/bitsandbytes/cextension.py:34: UserWarning: The installed version of bitsandbytes was compiled without GPU support. 8-bit optimizers, 8-bit multiplication, and GPU quantization are unavailable.\n",
            "  warn(\"The installed version of bitsandbytes was compiled without GPU support. \"\n"
          ]
        },
        {
          "name": "stdout",
          "output_type": "stream",
          "text": [
            "/usr/local/lib/python3.10/dist-packages/bitsandbytes/libbitsandbytes_cpu.so: undefined symbol: cadam32bit_grad_fp32\n"
          ]
        }
      ],
      "source": [
        "import os\n",
        "import torch\n",
        "from datasets import load_dataset\n",
        "from transformers import (\n",
        "    AutoModelForCausalLM,\n",
        "    AutoTokenizer,\n",
        "    BitsAndBytesConfig,\n",
        "    HfArgumentParser,\n",
        "    TrainingArguments,\n",
        "    pipeline,\n",
        "    logging,\n",
        ")\n",
        "from peft import LoraConfig, PeftModel\n",
        "from trl import SFTTrainer"
      ]
    },
    {
      "cell_type": "markdown",
      "metadata": {
        "id": "J5d58CfLoWZj"
      },
      "source": [
        "#**In case of Llama 2, the following prompt template is used for the chat models**"
      ]
    },
    {
      "cell_type": "markdown",
      "metadata": {
        "id": "5lYYzhCRov5y"
      },
      "source": [
        "System Prompt (optional) to guide the model\n",
        "\n",
        "\n",
        "User prompt (required) to give the instruction\n",
        "\n",
        "\n",
        "Model Answer (required)"
      ]
    },
    {
      "cell_type": "markdown",
      "metadata": {
        "id": "AS1Ee8JunXgp"
      },
      "source": [
        "![image.png](data:image/png;base64,iVBORw0KGgoAAAANSUhEUgAAAccAAACkCAYAAADi6+XyAAAgAElEQVR4Ae2dv2sbS9uGvz9mugWBi4AhRdxYVcQpLE5xBIEjXBwRiCBwcAovASMML3ITccCIF4JcvMIQkOGAiqCAQSmMXAQZAjIEpQgsuFgIbGFQdX/M7K40O1pJK9nyD+UuzFrS7OzMM9fM/Twzs7v/NxgMwD/agAyQATJABsjAiIH/ozFGxqAtaAsyQAbIABmQDFAcGTlz5oAMkAEyQAYMBiiOhkHoNdJrJANkgAyQAYojxZEeIxkgA2SADBgMUBwNg9BjpMdIBsgAGSADFEeKIz1GMkAGyAAZMBigOBoGocdIj5EMkAEyQAYojhRHeoxkgAyQATJgMEBxNAxCj5EeIxkgA2SADFAcKY70GMkAGSADZMBggOJoGIQeIz1GMkAGyAAZoDhSHOkxkgEyQAbIgMEAxdEwCD1GeoxkgAyQATJAcaQ40mMkA2SADJABgwGKo2EQeoz0GMkAGSADZIDiSHGkx0gGyAAZIAMGAxRHwyD0GOkxkgEyQAbIAMWR4kiPkQyQATJABgwGKI6GQegx0mMkA2SADJABiiPFkR4jGSADZIAMGAxQHA2D0GOkx0gGyAAZIAOrKY5eH53TNtr631f3EXlGHvrnRvlPe3Ap5I+oDTm4UGDIwGNmYDXF8UcdeVFAdZI4XvWiwqmnO+/DC0TI+95B+7SDvmdArs6PESu3h9ZRGeUD+VdFXQradXiui55+ndj/w2sZ4nhSQkaU0HmA4uhetlBT9S2jfFhH+1JzQlzfzr2r0Ab6MajjF2dob9mRpub3AOv/mDs/y67zyP/JQ5SBOxVH53MDbSdagEQN8rWJ+lcvedSgxHGKmJxXkfkt4/89tSDEGtLh5zdNOMEg7BznIYRA9n0veu2zEoQpVt/ryKcE1raKKEmx2Csi+0TAem6jpercQTW8hjw+X4clBNY2g3Ko33bQjLPPrPrcRDScNhqnTrR+cfnFpOsf52GJNWRfl5RDUHqdxZqwkNltBTZ0UP9TwHrbjgigavOrBgpiA6WzUbvOzk+y46D9oQ1n6HRM4ilpuknn8/tEfTOOFX43uz/RRg/eRncjjtd9NN5kYD3ZQctdYND5WkUmtYbcYUeLxKbkM4eY+AIYL6Tqt2cb2EjZaP3Urjcmji6arwSs3VZUBK5ddE670e/CTqHKKFA60/INfzOPc9RnngGtf7Kj7LrzUYv2zGsPBohN5zZRFBbsTyNxU9d2O2h/0b77UsGGyKL2LVrP7rsNiJeN0VRx0vwGLlpv1mA930HDyDNa96TpouWK5sHfaA8y8KsysHRxdC9qKDyxkHlTR08XmHAQ/tFB/bCE4osMCrtl1E668VGB00blhRwUS2j9mAHsHGIyUxz3G2i8NKLHMXHsoJwSyJgRZljHuON9iqPbRe2lLzBTI/Jp6c7LsEQGtcsZbTGQjoMVdRxU1JhG5UI7N3F+8hwPvWNf2AtH3SkOU9J0Wjni2orfPXgv/1cdwFnv5fXd5YnjtYPWnowWc6h8jp+2887LSIs0CocNfw3wpAZ7ex3WE3tChJlwsLtNcdxuoH9qw9KjxzFx9NB+a0Gk8qh9mR6FDWG+J3F0Ppb8KPzd9KnJmem8NuyUgLVdQzd2TVGD9qKCtIweAyGVUaP1qjmKGqX4zJNfKFZJHaak6cJ8eaQYkoFfnoHliOOPJnY2/WixO2UatbMvIP42piIHA3jmBhgT1B9BFPl7Fd24tLcpjn/W4Qz6qG1p0eOYOA4w+NlT0Zhco5TrjtWP+mYcTSjCuty5ODpo/p1W05H1i2kCnjTdAN5XOSsg1Jpt9nUVLX0zTlhPdfTQ2rX8tUcVNY6EcugsyHZPnJ9mz2sXXRVFprHTjHfC1DWSpouUW7sOv//lB0udVf6/+n1jOeKopsiyqJxPG4QH6B9lIVJZlD/24MSJ3JQBqf+hiA2RR+OGG1hmTqsqcRzAOythI1VEU0ZJceIYlFXutqy+yqjNNuJJFvZJP35QuXNx9Kd+s+9mrdsmTRd0jmsXvY9VFJ/LjU3SMbDj1wIva8iKLPLbG9EpVrONk+ann+d2UNkSsA468bYO0yZNF6bncbo9aR/aZ4UZWI44yi3551Xk1FpjA/2JOws99E5KyKsdowLW0yyKB3V0pq0puh1U1drjlA0Ztx45SiHwd16m/+lOFcehR3nVRV1uQpKbVk61DSohTHcujgMMkthOli9purAuwdH9UseOFMmUjfaYsxNMPcdszhnabK78fHEONwvN2qyVNN2ksvD71Y8U2MZsY52BpYmjusjPni8QTwqoTZ3KG8BzHfRO6yirqCuN8vm4oMxcBwsH16WIYxg92mid1xLed9hD7TcBsR8T0dyHOCr7JFy3TbzpxehQl9I28btwp0XpOpSR/yflN22zUMiBPCZNp5/D/xkRkYFfnoHlimMAmPO5oqLI7MH0TSD+oNhH/Q9DUKTIhutlSe53XJI4htFj9q2NfOQ+Rw+9i7jpU78usdN99yaOgZiFm1R+L0+/93RSup89dL8bwijb+3sdOWGhfD7+21RxnCM/53MZWXlrz6xNRQnTRcSYg+IvPyiSh/G++yva5E7EURnW7aL+9w7q4ZTpzw5KWzlUzPXGH03YzwSyR5rYnJWRTFiDRp0ljtce3CtX/XXf5yCEjVbw2XVHEasazIM1xyEc6r49uQlldG+kd1bGurz5/U0NnW8uPDmN/NNB9728Sd64ZSEcfO9bHGU5gk0qO8dTNrLEpvPQ+c86RCqDnaMO+oHNvB9d1LYtiM0KujFT6ZPFcZ78HJ+jGTMRypGRvM1Mx4FgyHbIJo90EMgA7k4cQ2Nrg6Z70UBJ3rohpNgEf6l15M2IQDsnUUeeJY5qQ412zfDa8qiJYaw4Dlx136MujrJMcXWxnuYn3sYyeAjiGNMmU+2rt4MUVm292G8/C+vblYmR6GRxDIQ6aX56OcI6xB2Tpos7l99RIMjAL83A3YtjHHBaJKeirrg083w3SxznyWvetJ4fkeoR6FTBSZL/fdYnQfk8N6jz2CacxaKy287vxvZPYANeY7G2pt1ot4fKwMMQx9sefJSYaFOlcso07uk8t33dW8xvKBCy7Bc15LRp3IcKE8vFgY4MkIFVYWA1xdHtjN4UEb4xoqmtYd6iiC0HBBed4ds9wrd8NNF/8OXmwLAcHmhX2pUM3DUDqymOFJFfeq3grjsRr8eBmwysHgMURwophZQMkAEyQAYMBiiOhkHoAa6eB8g2ZZuSATIwLwMUR4ojPUYyQAbIABkwGKA4GgaZ17tgenqkZIAMkIHVY4DiSHGkx0gGyAAZIAMGAxRHwyD0AFfPA2Sbsk3JABmYlwGKI8WRHiMZIANkgAwYDFAcDYPM610wPT1SMkAGyMDqMbA8cbx20Dmuohw8oaZ20oVzVw+Cls9q1d6uQXCXCK56Lu7oTSa09RJtTUeO0Q0ZuDMGliOO8nVUmwLyrRS2Ekcb+acWxJMcaknex3hTAORbN7S3a3DAXuKA/cAfis62X2Lb37Sf8vw7G+jZD+bvB0sRx+4/GxBbNfSMSLF/2kbf+G4ZjeZ8yFMc72rgOS/D4kPROcjdFW+8Dlm7IwaWII4OGtsCYrcFb0olnNMqyu87cOPS/GihetBAV38FUjBNW3qdQ+YvG+WjBrrhi5NVHi56p220T9to7GUgnoVR65QHd//ooH5YQvFFAfZBDa1LVwOvj+ZBDZ0rB+0jG8XXZbTkm++dNqqvCygetBYQ+iBPdwDvexu1vSJyqi7tmClnmbaM5jff43HO6qiG6T90o7Z1e2gdlWH/lUNxr4r6mfHyYvUg9ib6P3toHBRR3K2j+3MA72sDpb8KsI9H+blnNZTlQ9rV+xqrwzwbkZcGe+if+7Zu/7cAIbIohg94V8caOu78ntoyHCXmyXYgA2RgEQaWII4D9I+yECIN+2MfE9/PqKbj0qhcjDdc990GrLftkQB4HZQ3BdJ/VdFQAthAbTeP9dQa7E+hoPliItc47e2NmeLY/1DAmlhDbr+OlhTUwyIyqTUUPoRv7+igJCxknmeR2y1j53cL4s8d7LwooHSwg2xKIHsUph2vQ3xjyDw3UHxTwPrzIkrBlHPuiYC1XTfEVqYVKH3uo/l3GtbTLIp7UuhtFP7pDEXcu6whnxJYe2GjdtJC/UDWQyD9tj1yPAJbZ7ZkHiUUNgU2Xu2g8GIH5b0C0sKCfeqvG/oveN7BzvN1VW9pz9KrDCyRRuksXFvU3hryWrY1xTG+vZNywXS0Hxl4aAwsRRwH1w5ae3JA9dcdS8cd9PUoUEV6HtpvragIyu+9NuzUBipfNFjkGqLYQct8J6MXDtZa2sEA/gBfhxMXlcrvLipIRwZ7/3zvcwkbqR00VdTji9PGu64vRKoMWdQu/bTtPQHxqjkSoEnXinzv55neb8PVp5e/15EXAsV/Q6GX1wjSbqYxlj7M87qLihS6Pc2RkL+p/KxRfkocBQonfv7KPik7sGcf9T8ENv7x6+n/lkc9iFh9YD2096TDUUE3vHZ4VHYpoRN+5nHouDy0zs7yRMcJ2oP2mMbAcsQxHCDltOV+DmtCQKTWkT/sREXhsoasKKBxNWok79SGZQ7C32Q6C9mDFnpOvCDqlZwljp19C+JlI0bYOiinBEpnI3HKHwdTlIYIdPbFAuuaQTSo8h/VeTAIpqL32trA6qcdjyi189R6X2Yo2CMbeGjtCojthu8gBOLo18t0HhzU/xQQ+340OtF26lo51OXUcti+8mjYJfKbno7/R+1Ge9AeZOBBM7BccQwb3+uj/c4XyehUpIvGS4Hs+15gpOBzzHSlWh/bXlfRqBTa7Ovy+NpacL2JA7z6PRADKdgT/vwIzhenuxHHAcbF1rh+aEvtqOo5YTNM5LfbEEcjj6EIUhwfdAcftpPGDb8zHDzahgzHMHA34qguHEQz5i0WXyrYSNloy2lXFSFGI8mxjuy5cC7bo7W1g85obTKo4HRxdNF8JTcMNeFcuXBj/vx1UkOcDBEYF7MkHc7PM4zgRnULy6RvYjKuH9N43icbQhSDaeDo9dWO4d9q6MnzDGGL2idh5HhRwYaIiVINu4zqFC0Pv6c9yAAZeEwMLEUc+xe9McGSRlHrdOFU33Cw76O25a+HyY08kY04wzTxUPX/l4OIiZzU4G9OzWp5qd+Ha27xeYdrfncSOf5swU4JDK+lyjpbHH3Rs2B/Mqaar3vKplYwVXob4th7n4VIldDR10plOZU4xgv0Y+oILOukfsDvycavycDti+P3RrB7soLWpePvVvVc9D/aaldkdNOJb3S1zriVR/6ZsRFHiYSHzn4WuXfGeuO1g+aufz9lXxM+BfLXKtJiA3ZTu6XhpwM33BQU7H61fi+j/X0kLN73DmofwkjUECcjQrpJ5Gg9L6ER3jZy1UVt24LYLKMTli+pOA48dA7SEKk8al+CzTxeH623/neN8FaXeSNHsYbCYbCJ6tobtl3+g2bP0OZuEztS2P/bHa0new5cc/NUmJ5HTmGRATLwCBi4fXGUlf4h7wXM+htxwnW9J1nYx/ER5SCIdOSDA8aETubndtHYl7du6OuEFta3K2g7cV6Nh96RvFVDS59Ko6rvgP3ZQ313WhmXJ472UQP21tpwzXNtq4TWWD2M60+C6dpF5zBqm7UtGw19t+m84vhHFQ09z9Q6ikcT2k7uDv5UUrePjNZw11DUHZNJZef3HCTJABl4oAwsRxzDyqrnbsp1vVF0Fj9FMZpajf99JIBeuEYYibJGv0fOT3L9JGnC+tz46AteuOboue7tPQM2rMcNI7bIemSQ58R7VXV7hNe/ciff26qn5/8cFMkAGXjADCxXHBNW3P1owwo35SQ8JyKCj+acqDg+xDpExPHR2HWCc8Tyc/AlA2RgQQbuTxy9LhryCTG78hYP/ekrqzzQURwfokPAMq1yn2PdyPdiDNyfOH5roSLF8bCOTrhxZEGFfzyNH31e6kMst3q26tGEZ96ufPss1okeYjuyTGxLMnAzBu5PHDnQcrqDDJABMkAGHigDFMcH2jD0+m7m9dF+tB8ZIAM3YYDiSHGk50oGyAAZIAMGAxRHwyA38TR4Lj1VMkAGyMBqMEBxpDjSYyQDZIAMkAGDAYqjYRB6favh9bEd2Y5kgAzchAGKI8WRHiMZIANkgAwYDFAcDYPcxNPgufRUyQAZIAOrwcCjFkfnoo12+HYLihw9PzJABsgAGbglBh6vOHpt2KkNVC7GvRTnrI6qfPqO/DtqoKs/gcftoX3aRu9q/LzBwEP/vI32FyfyPkr3soVamN9hnYJ8S/DRw45jkN+RCzLwEBi4U3F0PjcmvGIqCkOSdO6/RYy/4kq++1G+y3Ad+V1fHO3tdVhiDbn34SuX/Dffx75U+aqBgthA6Wz0FpH+cV6dn31dUmJbUq/ispDZbcEZioSD9oc2HPNFwMPfw/olTRem5/EhdBKWgRySgV+PgbsRx+s+Gm8ysJ7soOVOMXLSdAMXjZcC+WPj5bsXFWyILGqXxjW+tdH+rn33JUinv/NwMED33QbEywbcUNTcJorCgv1pJJaqk7gdtL/o37lovVmD9Xwn+h7FMJ/hMWk6razDc/kdBygyQAbIwF0xsHRxdC9qKDyxkHlTR2/KuwaTplOG+VZDVhTQMKZGnQ95CGGjNfNdjy6aryxYu63R9KmKGtPRadrzMiyRGRfbWMHy0DveQSa1hsJRF+7EKDJpOnaCu+oEvA5ZIwNkwGRgeeJ47aC1J6PFHCqfjQhPF5ek6bRz+kdZCF3Ywt+UaAqk37bQnyWQFxWktShTRo3Wq+YoapR5qnVNAWu7hq4hxKYhh5+dNiovZBRZQktf6wzLGB6TpgvT88iNBmSADJCBO2NgOeL4o4mdTT9a7E6bRk2aLgJEF5VnFuxTfVpz5PU4n0rIpIS/7rhfR+d7fDq5+aa1a0GtPaqoMWY6djCA91VGvgJCrCH7uopWkt2x1y66KopMY6c5zTFImC5S/1Fdh4LM3++sw9Dm5I8M/BoMLEcc1XRkFpVzd/qglTSdPvjL9cJnFXQnTlsOMLh20DkuIadEzcL6dhWdOJG+lNOzWeS3N6JTrPr15P/XLnofqyg+tyCEwNqWPWNtcYCB20FlS8A66Ey3QdJ0Zpn4ebpdaR/ahwyQgRswsBxxHAzgnleRU2uNDfSnCFnSdL635qH91sLGu26yRr/20D+t+CK5VUN/zFB+fkJOrxqbcyZ5h+6XOnakSKZstCdM3fZP/LXH3GFnytrjAEnTTSoLv/81PFi2M9uZDNw9A0sTR9WYP3uoq12qBdQupkSRSdOpNcCkG2RGxvQ+2RAij3rMGqBzLDfxlNAZE87R+WNgXtaQEQKlMyON20Xtpb9rtf510nSujCoTppunTEybzGGinWgnMkAGEjCwXHEMCuB8ltGbhezB9HsBZ6VzTwox9zZqAvW9G78j9nNJiWPD0dKGZZsmjj976Oq3gIQG/V5HTlgon4/ycz6XkU2tIfduVh2TpRsT5PDaPLJjkwEyQAaWzsCdiKMa6N0u6n/vxEZvESGYmM6/t7FwMikC7aOxbUHI3bEfe3DkbSPXHtxvLdibYnwnagDX5MjRQ+c/6xCpDHaOOui7fiTo/eiiJq+zqa97On7dpkXH6npJ041EN2Ibdoildwjam+yRATIgGbg7cQwH9inrjxEozXQT7m2MnuOgfVhEVm3EkTtMg12mu5PvsZwsjv5GnO5JCfmn/kYcPz+5wacy/qQfs7xhfc1j0nTmefxMYSQDZIAM3BkDdy+OCzauvLcx9pFvE/Lzrly4Vy68WxIjz/XzcydswomI9IQyMQ09UjJABsjA42DgcYjj9fR7Gwnb44CN7cR2IgNk4LEw8CjE0ftSRf5Fdfq9jYzW7my64bHAzXJyICYDZGBRBh6FOC5aOZ7HjkEGyAAZIAOLMEBxZMTJiJMMkAEyQAYMBiiOhkEW8TB4Dj1TMkAGyMBqMUBxpDjSYyQDZIAMkAGDAYqjYRB6f6vl/bE92Z5kgAwswgDFkeJIj5EMkAEyQAYMBiiOhkEW8TB4Dj1TMkAGyMBqMUBxpDjSYyQDZIAMkAGDAYqjYRB6f6vl/bE92Z5kgAwswgDFkeJIj5EMkAEyQAYMBiiOhkEW8TB4Dj1TMkAGyMBqMUBxpDjSYyQDZIAMkAGDAYqjYRB6f6vl/bE92Z5kgAwswgDFkeJIj5EMkAEyQAYMBiiOhkEW8TB4Dj1TMkAGyMBqMUBxpDjSYyQDZIAMkAGDAYqjYRB6f6vl/bE92Z5kgAwswgDFkeJIj5EMkAEyQAYMBiiOhkEW8TB4Dj1TMkAGyMBqMUBxpDjSYyQDZIAMkAGDAYqjYRB6f6vl/bE92Z5kgAwswgDFkeJIj5EMkAEyQAYMBiiOhkEW8TB4Dj1TMkAGyMBqMUBxpDjSYyQDZIAMkAGDAYqjYRB6f6vl/bE92Z5kgAwswgDFkeJIj5EMkAEyQAYMBiiOhkEW8TB4Dj1TMkAGyMBqMUBxpDjSYyQDZIAMkAGDAYqjYRB6f6vl/bE92Z5kgAwswgDFkeJIj5EMkAEyQAYMBiiOhkEW8TB4Dj1TMkAGyMBqMUBxpDjSYyQDZIAMkAGDAYqjYRB6f6vl/bE92Z5kgAwswgDFkeJ4Q4/RRe+0jbb+d96HN8Ou3rcO2l+cmekWgXo553jonxv1PO3BnVHP5ZRlvsHO+95BO0GbjJXV66Ojt+tpB31vvmuP5fkI7PUoy3ztoHvaRs9l+9xW+92+OAYdqndlNlIwuHx1bzgYm/ny81wwXHtwXe8W26CDksigdKIJx8yBuI/alkDxX42Fq15UYPVBWc8v4Kvz3ayDL9Jj3Lk9tI7KKB/IvyrqUtCuQ2biBE+rR1AGP08j7UkJGVFCZ+HBPszPFNhJ34dlnv/oHOch/qzDmbesThM7v2WQkX+baxAij/qP+a8/F5/zlpHpVV/2Tm1Yzyro0h63Nrbdvjj+qCMvBEpnZidyUP9TQOx3bq3w7HSmjRN8PistNlBO7HRSHOccNC8q2EjZaOtRyHnVH4TlQPzUghBrSIcD85vmaGAP+BJbNfSGIifrLcthcPe9jnxKYG2riJIUx70isk8ErOc2Wo48x0HzTTD4q2ulsSYErKf6dxlUz2PsqspxE3EM+oPIovZNy99rw04JiBsJr5bfYICFxVFvc8nNvO2sn8//Fxz3PPSOm+hNtZ+L5iuB7FF/sWt8baL+1XQ2owz9imMtxXEqdKsHiPNhwShiop3mF8fuuw1YU5wkNZhPEgclShvYeGbB/qR3aFMc/QHD2m1Fp26vXXROu9HvhnXz88gfO7MHmVsRxzQyv1mRQc2PADawMan+w7ImZ5PimNxWD0oE3A6qL9ZgPa9OF8erBgo3cVy+VpFJrSF32NFmVR6pzRboH5Pa/P7F8UcH9cMSii8yKOyWUTvpwolEBKNGci9bqB3YKLwoonRYRydmiqffLKPcDDyoYd4F2AcNdPVIJYkRvzVRPpLAeOif1lB6nfPLeBozeLod1A5q6Mg5/2sXvY81lHcLyL0uofrJSB8pVw2tS216cTCAe1ZTdfC+NlB+XYR9LAdzD72TEgp/2ah/CUXBReeojKaMPK66aByGtmmgG1l7GK0LNvYyEM/ysNU0Yzjd2EQ/iT1i08wpjioy2kDly6hdTThni2MJjZMCotGjKY4dlFMCmfe92UI3rNddi6OA/daGtVUL7O+h/dZCfr+EfIw4Omd1VPeKyP1lo3zUmri+5AxZraJx4aI/aVr12kHnuDri+qM+5Wy0z21GjnIK/bg66h/HHaPPa1wHZbT/yqG4V0PrW8i+Vj6tHhllmwa6w7Ghj+ZBGY2LmPPCdtf7bvjdjD4qmVX9VI4P8pxg+t4vZxWt4fW1coZ5Jzg6H0u+YL1rG7YZz69/lIV42Yhf/x7WY8b46rRRUUJcunHZzf78WD/fqzh652WkRRqFw4a/3nRSg729DuuJjVZkcPfQOcjASmVQVGlbqO/nsJbKoHwWhb6zL6du2+j/u4N0ah3Z1yW13mT/VUFnguhObDw5IDwrYuflOjKv/HzKuzmsCQv5Y2MKQ0USedS/dlH53cLaphRkfyrPPhmJo3tqIy0sZF6VUf/YQC3M76g3jGaUOGxmkJXTgXsFpMUGin8XkHtTRumvNMRwStKfmsv/vYPM01wgeCUUn1sQmyV0foYdyR8g5Lqbvb1xr+KoIqPfalM94dnimEfjm5x+1KNHUxx9oRGpPGpfos7HxPYOpmbvLnIUKH1qwQ6nVpXjkEXtQ8WIHF2038p2z6B4UEdL9pMXa1B1u9T4v+6j+XeQbk86PiUUt9aR3twYn0r/3kDhicDaixLqH9ton1QVN2svG+jH9ZNbEsf+hzzWxJrql7WTNhpHNnJyqnu7rl3X59r+t43y83XkdoO6SK5TeTR04fE6KG8KpP+qoqHWiGWfymM9tQb7k2x3B41tgY1/uoGT5KG1KyD09bnPJYhUebh+3P9QUGXM7dfROm2jcVhUQlX4EO3zYUTe+1JBNrWGtBTmgzJKr+1oGROI4ZBJt4vaSxkt7iSc6vTX76OzKH6/Tz6+huOEnMLd8et61P3lo8h7FUclZH8b016DATwjwnP/LcJK5VH/Hjaif+z/Lw+xGZ1yUHluppHeLKEdEdjouUMYp4GrBoQ0Sp+jg6u6riiiqecfTPelN9eQ/1+0Ew2vddVEMSXGfvc+l7Ah0qhc+GX0xaGAhtrU5A8Uw+nB73XkxEaQNvgtMrAMMPjZRumZPiCM6h526Lk3Z0y00zyRY7K1kSTiKDeGKI95uPZoiqO0Q08NNEL4647VaZGRqt/dR475454fLR47UI6D3DijuButZyr+5bRZhH8P7b0NiM0KuoGYhekia5gD37GMbMi57qIiBWW/M3TIFKOKGws7zSjv6rdbEsfBVX884r2sISssbaDq698AAAtBSURBVJ+Cz7V4UkA9Zj02p/cvVa4dtIaOYMC6N3Iauv9sQGw3gnXrLirP5JpybmjP3vsMxKumH3ldVJTDXjKcbtVHUzuRPq84fZZG+kk+Ws6JfWXUD4djgpbWu6gqkc0liBaH58et3wd5Jh1fh3mFZfkRRJG/V+efbQvzWIHjvYqjGtxSWZQ/9uAYgjhqML+jbLwLPT8NMKeBvDHXroCIEdJRftr5sxrQGKSGeajrCpQ+a3kpcYwZcLRrqPU+YaM1Vtcear8JWAf+ZqWoOPj1H0YzwXX8DU/Gb9q1OgcWxB/1senSexVHtTYSir5mO63c0sbR+hvpwghdRg9eB6VnVrDrNUYcg3zldHz1VQaWEBBPsrBPJjgv9xA5ynYNRbG+b6Fw4mIQ4c6PfIS5dirrdllDRlgoqw1Dk9ONtflZCZaIbwfFTdx68G2Jo97Wcuf0lYPeWRUFITBkfDCJa//7yKa+b76wZg9a6DkjQRz2VXk9GRmKEtrSiZD8/FZBZTfcLe07bOH0e2ffmjBF6U/T6xsNfU7TMIU0cm29vjP+V+PDsyIaukMw4xy5fh87Ng4C53Hm+Gr0r+B6/Q9FbIg8GmrjWnyaRev5WM67V3EcBOtoebU7Ue4SzKppo+haoj/oSe8//i+MovwGVOK4yLb1OAgjg5QOSEyEEREtPe3o/2ll03+LioMxUESuY/ym1SGax6gMYwOlds5i0EpbJNutOnVtRCvHpLKr8uniGAqpip4mi+OwXldd1N9IkbRgn8YNpDHtqpVrmI/8TpVjFN1Ffpt0TuR7re2uOyilLFipYDYiwt20Mum/6f+P2luWy2xz376T+pMYRVF6eW9LHNV6fBXF3+XySRoZuX/goIjsouIoZ5q+NlCSyzFyjFBLKWXUz0ZLGQPlzGZQuxzA+2RDOhrd95nAGQ1ETzm6gfhOHGtCQfXtO5VT3XZz/N8/8ac1E22Ombl+7+9TmD6+RlkZDDcB7cwl0vPzb1x3Dhvd1bVuXxzdJopCGDsJpSF88EZz/1HjeK6D3mkdZeXhp1E+DwcvOQ0ikP1vF+6VG/vnaWskusjc2IiRQUorb1wdI6KlpdUaXU3f6Gsdw9987zWMDqKdThtEZfrIdYzfhvkNoKaSYtb2zIHyxjZS0VYScZy8NmKWIVp/w5aGOIbRo/2po6Jv3bM38/U/+1F6JPoY2m2ywIzldZviOBhARgBh+0cjR7+8sf0mwqHfT8IISC+v2eZy+lUIG00nvj+55hSltM+tiKOc4k3D+r2MduQ+VdPuk7j2v49vOzmT4MK5bKN+INcIBdIH4bSxbxt5X62MjFWEKqNn2T+C2Sc/Qgr7YRNOgrFmKqdDpgx+k3yfcHNMkvX7kIPJ4+uofPNsAgrzXeXj7YvjIOjM5jTozxZ2YkVz1Di+ofuo/xG9H1JNdQzXlsz00c93IY7S+7TMaCkiWtEyDQFS01lZ5cEOv5Od5WdL3dsWTitFO50xUESuY/wWdrzrnrrJPu52CZV3rEBPKHOY58SjHNgSiOOXmHsbJ+QZrb9RLlMcw8hoy4b9p36fo4feRdz0qc9XOIUdaYd7mlaNliEUolFUOon/KIfBRpPhzteR3fr/y0U35Cgb6puZRmnHyhK20a2Ioy+CkeUIlf8tiWNYVjmlKOs83PHr28Y6qKH2WzDTpByLIpr/liA0J1Kxl7LH1zC1vEMbTeU0Jn14XrJjuDkmjZ3j0Wa90bkuGi8XubdxfHyVa/P1v9NzbAJKwMuN63//11iCOIZrRmnYH/uQUZ3n+DuwxLMSOuF6288OSls5VMz1xh9N2DJS1G9o/dFQN3On/66jqz15R93aEd62ETTG7YujhcxeA+GTV9wvNb8sQ680aMSIaE1qWLkuJHeS2miFnvNVFzX1XXlom2inMwQwcp3Ak35SQPXMt/XA66OldjYau/pCWL9W1e5Xu6lNO/104IbtEqZLfEwmjtPWRlSHV+tPfiTTfS8HNhut0HvXn+gTI44DucHkmT9NGEaO3lkZ63JX8JsaOt9cxeHgp4Pu+zwsbfPTaLCRbWYO0pPaMYzgRwIWzWfKeUO7Gu06/H5cHAch/29bw8e3xXHo7060kH8f7DS8dtE93kFaThNGlhr8CE7I9ajTgBt5ffn0oaPGkMNIndR6sTXaTHbtwtE3pOnln/i/307p/fZwJ6T33d/8IZdMQucwnGUafQ7tGfA+XBP10NnPIvfOWG+8dtDc3VC3+oS3KPn39+bVLTJq7TGYycr9kYPYa49u9wl2v5rRrXwEX+1DGIn65Yn207CMt3z80Ub599FO2mGbzFq/n2d8PSsjezD7lpHhtSe27y3X/Z6vsxRxlPf5dQ7lLQ+jdQ25NdlcaHYvtLWCMG1qHfm43VpyqiFcVwjSWk/zqHzWBvnBALcvjjZqJ7Z6soq/5rmG7H5r/N6jiGhNgeS6j8ZuVrONhfXtqn9/ZABDtNMZg2jkOv5vucMGqpptrKdF1CY+8cJD70huVR+1jUilUZ1y3+H0TpFAHGeujYSCoJVJL58+sMeJo7znTN73aDwhJ46vOGZG9Xug4ii5+NaAvSUf4RbYSPaTmJu25S1MckrRTyedgwb6p3FPRZKRic61PGcN2d06enHTqjIaU7c4jPJOH8ZskpsxoHlfqurWjbAea1s26hcu2nuLiKO8v7CLxr68dSMslzzKPlVBW99MInd1StuFu1LlVLbcxSpF+UN0DFGRVKSPBhu5jAgu2k+n9PkZNhnxNyEPbdkoTJtk/T6Of7kmOza+xuQfXudXPi5HHEMYwmhA9/zD3/RjmO4q8PD138z/vWCdZFae5nmLfNbXHMMyLhxhGeDfSn6GcP6UtgnXao3rmfUPr580vXn+8PNscVRrIzHTfXfW8ZbBjBLpm0SOM9pnaF8jnWrjGf0kbNuErHpBhK6v3U9sm9CWCfOOzScs3wQRjj1nkj2078N6LD4LYtg6LOeN+4iRr1bmxeoq1+8nbSqLudawHjO4uXG5Yq79iPNcrjg+YsMoaHVxfJB1McTxXsooxTGH2oW2uSPiuCy6NvLwOprnanW8qCE3XNN6eGVdbNBlPR6F3eZYv38U9bmXcWs26xTHaQ1DcRytxUy00+jpO/6bL8r+I/fC9E4T9m82mtpa8ePssP4jzYZ1VI/fu8lj92Z3zsdpJ9Zrue3mofvfPHL/nX9Ke7nlWr12pziGg3jcUT5b9eAhD4D+gF07i3miSVx9+F0CsV+9Ts5BkW1KBuZngOJIwaBgkAEyQAbIgMEAxdEwCD2s+T0s2ow2IwNkYNUYoDhSHOkxkgEyQAbIgMEAxdEwyKp5P6wPPXoyQAbIwPwMUBwpjvQYyQAZIANkwGCA4mgYhB7W/B4WbUabkQEysGoMUBwpjvQYyQAZIANkwGCA4mgYZNW8H9aHHj0ZIANkYH4GKI4UR3qMZIAMkAEyYDBAcTQMQg9rfg+LNqPNyAAZWDUGKI4UR3qMZIAMkAEyYDBAcTQMsmreD+tDj54MkAEyMD8DFEeKIz1GMkAGyAAZMBigOBoGoYc1v4dFm9FmZIAMrBoDFEeKIz1GMkAGyAAZMBigOBoGWTXvh/WhR08GyAAZmJ8BiiPFkR4jGSADZIAMGAxQHA2D0MOa38OizWgzMkAGVo0BiiPFkR4jGSADZIAMGAxQHA2DrJr3w/rQoycDZIAMzM8AxZHiSI+RDJABMkAGDAYojoZB6GHN72HRZrQZGSADq8YAxZHiSI+RDJABMkAGDAYojoZBVs37YX3o0ZMBMkAG5meA4khxpMdIBsgAGSADBgMUR8Mg9LDm97BoM9qMDJCBVWOA4khxpMdIBsgAGSADBgP/DxSqy8EVbNsnAAAAAElFTkSuQmCC)"
      ]
    },
    {
      "cell_type": "markdown",
      "metadata": {
        "id": "ck708D51o-h3"
      },
      "source": [
        "#We will reformat our instruction dataset to follow Llama 2 template."
      ]
    },
    {
      "cell_type": "markdown",
      "metadata": {
        "id": "YS0zP2DKpJRY"
      },
      "source": [
        "- Orignal Dataset: https://huggingface.co/datasets/timdettmers/openassistant-guanaco"
      ]
    },
    {
      "cell_type": "markdown",
      "metadata": {
        "id": "DKzi2s6RpNdH"
      },
      "source": [
        "- Reformat Dataset following the Llama 2 template with 1k sample: https://huggingface.co/datasets/mlabonne/guanaco-llama2-1k"
      ]
    },
    {
      "cell_type": "markdown",
      "metadata": {
        "id": "jVEAxq2piiyX"
      },
      "source": [
        "- Complete Reformat Dataset following the Llama 2 template: https://huggingface.co/datasets/mlabonne/guanaco-llama2"
      ]
    },
    {
      "cell_type": "markdown",
      "metadata": {
        "id": "Cg_GnaVRrv8R"
      },
      "source": [
        "To know how this dataset was created, you can check this notebook.  \n",
        "\n",
        "https://colab.research.google.com/drive/1Ad7a9zMmkxuXTOh1Z7-rNSICA4dybpM2?usp=sharing"
      ]
    },
    {
      "cell_type": "markdown",
      "metadata": {
        "id": "jSFfMkSpphFS"
      },
      "source": [
        "### Note: You don’t need to follow a specific prompt template if you’re using the base Llama 2 model instead of the chat version."
      ]
    },
    {
      "cell_type": "markdown",
      "metadata": {
        "id": "zdcR5JHdp6qY"
      },
      "source": [
        "#**How to fine tune Llama 2**"
      ]
    },
    {
      "cell_type": "markdown",
      "metadata": {
        "id": "FDEaxMxFqAV4"
      },
      "source": [
        "- Free Google Colab offers a 15GB Graphics Card (Limited Resources --> Barely enough to store Llama 2–7b’s weights)"
      ]
    },
    {
      "cell_type": "markdown",
      "metadata": {
        "id": "rwJnbDU1qNx6"
      },
      "source": [
        "- We also need to consider the overhead due to optimizer states, gradients, and forward activations"
      ]
    },
    {
      "cell_type": "markdown",
      "metadata": {
        "id": "DIeTamzXqcC3"
      },
      "source": [
        "- Full fine-tuning is not possible here: we need parameter-efficient fine-tuning (PEFT) techniques like LoRA or QLoRA."
      ]
    },
    {
      "cell_type": "markdown",
      "metadata": {
        "id": "1lDdMCfyqvy2"
      },
      "source": [
        "- To drastically reduce the VRAM usage, we must fine-tune the model in 4-bit precision, which is why we’ll use QLoRA here."
      ]
    },
    {
      "cell_type": "markdown",
      "metadata": {
        "id": "8gXkTpnRq9nY"
      },
      "source": [
        "#**Step 3**"
      ]
    },
    {
      "cell_type": "markdown",
      "metadata": {
        "id": "A3XhjPfHq_mw"
      },
      "source": [
        "1. Load a llama-2-7b-chat-hf model (chat model)\n",
        "2. Train it on the mlabonne/guanaco-llama2-1k (1,000 samples), which will produce our fine-tuned model Llama-2-7b-chat-finetune"
      ]
    },
    {
      "cell_type": "markdown",
      "metadata": {
        "id": "l6CPejEgv7hq"
      },
      "source": [
        "QLoRA will use a rank of 64 with a scaling parameter of 16. We’ll load the Llama 2 model directly in 4-bit precision using the NF4 type and train it for one epoch"
      ]
    },
    {
      "cell_type": "code",
      "execution_count": null,
      "metadata": {
        "id": "ib_We3NLtj2E"
      },
      "outputs": [],
      "source": [
        "# The model that you want to train from the Hugging Face hub\n",
        "model_name = \"NousResearch/Llama-2-7b-chat-hf\"\n",
        "\n",
        "# The instruction dataset to use\n",
        "#dataset_name = \"mlabonne/guanaco-llama2-1k\"\n",
        "#dataset_name=dfnew\n",
        "# Fine-tuned model name\n",
        "new_model = \"Llama-2-7b-chat-finetune\"\n",
        "\n",
        "################################################################################\n",
        "# QLoRA parameters\n",
        "################################################################################\n",
        "\n",
        "# LoRA attention dimension\n",
        "lora_r = 64\n",
        "\n",
        "# Alpha parameter for LoRA scaling\n",
        "lora_alpha = 16\n",
        "\n",
        "# Dropout probability for LoRA layers\n",
        "lora_dropout = 0.1\n",
        "\n",
        "################################################################################\n",
        "# bitsandbytes parameters\n",
        "################################################################################\n",
        "\n",
        "# Activate 4-bit precision base model loading\n",
        "use_4bit = True\n",
        "\n",
        "# Compute dtype for 4-bit base models\n",
        "bnb_4bit_compute_dtype = \"float16\"\n",
        "\n",
        "# Quantization type (fp4 or nf4)\n",
        "bnb_4bit_quant_type = \"nf4\"\n",
        "\n",
        "# Activate nested quantization for 4-bit base models (double quantization)\n",
        "use_nested_quant = False\n",
        "\n",
        "################################################################################\n",
        "# TrainingArguments parameters\n",
        "################################################################################\n",
        "\n",
        "# Output directory where the model predictions and checkpoints will be stored\n",
        "output_dir = \"./results\"\n",
        "\n",
        "# Number of training epochs\n",
        "num_train_epochs = 0.2\n",
        "\n",
        "\n",
        "# Enable fp16/bf16 training (set bf16 to True with an A100) fp False\n",
        "fp16 = True\n",
        "bf16 = False\n",
        "\n",
        "# Batch size per GPU for training was 4\n",
        "per_device_train_batch_size = 2\n",
        "\n",
        "# Batch size per GPU for evaluation\n",
        "per_device_eval_batch_size = 2\n",
        "\n",
        "# Number of update steps to accumulate the gradients for\n",
        "gradient_accumulation_steps = 2\n",
        "\n",
        "# Enable gradient checkpointing True\n",
        "gradient_checkpointing = False\n",
        "\n",
        "# Maximum gradient normal (gradient clipping)\n",
        "max_grad_norm = 0.3\n",
        "\n",
        "# Initial learning rate (AdamW optimizer)2e-4\n",
        "learning_rate = 1e-4\n",
        "\n",
        "# Weight decay to apply to all layers except bias/LayerNorm weights\n",
        "weight_decay = 0.001\n",
        "\n",
        "# Optimizer to use\n",
        "optim = \"paged_adamw_32bit\"\n",
        "\n",
        "# Learning rate schedule\n",
        "lr_scheduler_type = \"cosine\"\n",
        "\n",
        "# Number of training steps (overrides num_train_epochs)\n",
        "max_steps = -1\n",
        "\n",
        "# Ratio of steps for a linear warmup (from 0 to learning rate)\n",
        "warmup_ratio = 0.03\n",
        "\n",
        "# Group sequences into batches with same length\n",
        "# Saves memory and speeds up training considerably\n",
        "group_by_length = True\n",
        "\n",
        "# Save checkpoint every X updates steps\n",
        "save_steps = 0\n",
        "\n",
        "# Log every X updates steps\n",
        "logging_steps = 25\n",
        "\n",
        "################################################################################\n",
        "# SFT parameters\n",
        "################################################################################\n",
        "\n",
        "# Maximum sequence length to use\n",
        "max_seq_length = None\n",
        "\n",
        "# Pack multiple short examples in the same input sequence to increase efficiency\n",
        "packing = False\n",
        "\n",
        "# Load the entire model on the GPU 0\n",
        "device_map = {\"\": 0}"
      ]
    },
    {
      "cell_type": "markdown",
      "metadata": {
        "id": "G9w5Txi5wI2B"
      },
      "source": [
        "#**Step 4:Load everything and start the fine-tuning process**"
      ]
    },
    {
      "cell_type": "markdown",
      "metadata": {
        "id": "qNx4Es23wjzC"
      },
      "source": [
        "1. First of all, we want to load the dataset we defined. Here, our dataset is already preprocessed but, usually, this is where you would reformat the prompt, filter out bad text, combine multiple datasets, etc.\n",
        "\n",
        "\n",
        "2. Then, we’re configuring bitsandbytes for 4-bit quantization.\n",
        "\n",
        "\n",
        "3. Next, we're loading the Llama 2 model in 4-bit precision on a GPU with the corresponding tokenizer.\n",
        "\n",
        "\n",
        "4. Finally, we're loading configurations for QLoRA, regular training parameters, and passing everything to the SFTTrainer. The training can finally start!"
      ]
    },
    {
      "cell_type": "code",
      "execution_count": null,
      "metadata": {
        "colab": {
          "base_uri": "https://localhost:8080/",
          "height": 423,
          "referenced_widgets": [
            "888c437d562147d5b15e245ecb8e59a6",
            "5ee4740bef474c44932d6636e16fac20",
            "f966ce3c332c409187d969941241c3e3",
            "8889a6b31f1c440da25793de03d98c7b",
            "ecda12f8d55b49e595de9e811e8fd4b5",
            "cb433eba722c4652a9ccdc0950afbdf1",
            "71502e7aa47f4817becbdad34645848c",
            "46d349479d8b4314beafd57f6279b474",
            "17896ed3af394eb6bf9dd0229c18357a",
            "c8b11632afd84771889376eb4f2b9dd3",
            "46a2f927474e4d388636c11d1f15c71d"
          ]
        },
        "id": "OJXpOgBFuSrc",
        "outputId": "42c6c1d4-32da-4545-d19f-764fdb8b5577"
      },
      "outputs": [
        {
          "data": {
            "application/vnd.jupyter.widget-view+json": {
              "model_id": "888c437d562147d5b15e245ecb8e59a6",
              "version_major": 2,
              "version_minor": 0
            },
            "text/plain": [
              "Generating train split: 0 examples [00:00, ? examples/s]"
            ]
          },
          "metadata": {},
          "output_type": "display_data"
        },
        {
          "ename": "RuntimeError",
          "evalue": "Found no NVIDIA driver on your system. Please check that you have an NVIDIA GPU and installed a driver from http://www.nvidia.com/Download/index.aspx",
          "output_type": "error",
          "traceback": [
            "\u001b[0;31m---------------------------------------------------------------------------\u001b[0m",
            "\u001b[0;31mRuntimeError\u001b[0m                              Traceback (most recent call last)",
            "\u001b[0;32m<ipython-input-8-7f40bb34b7f1>\u001b[0m in \u001b[0;36m<cell line: 25>\u001b[0;34m()\u001b[0m\n\u001b[1;32m     24\u001b[0m \u001b[0;31m# Check GPU compatibility with bfloat16\u001b[0m\u001b[0;34m\u001b[0m\u001b[0;34m\u001b[0m\u001b[0m\n\u001b[1;32m     25\u001b[0m \u001b[0;32mif\u001b[0m \u001b[0mcompute_dtype\u001b[0m \u001b[0;34m==\u001b[0m \u001b[0mtorch\u001b[0m\u001b[0;34m.\u001b[0m\u001b[0mfloat16\u001b[0m \u001b[0;32mand\u001b[0m \u001b[0muse_4bit\u001b[0m\u001b[0;34m:\u001b[0m\u001b[0;34m\u001b[0m\u001b[0;34m\u001b[0m\u001b[0m\n\u001b[0;32m---> 26\u001b[0;31m     \u001b[0mmajor\u001b[0m\u001b[0;34m,\u001b[0m \u001b[0m_\u001b[0m \u001b[0;34m=\u001b[0m \u001b[0mtorch\u001b[0m\u001b[0;34m.\u001b[0m\u001b[0mcuda\u001b[0m\u001b[0;34m.\u001b[0m\u001b[0mget_device_capability\u001b[0m\u001b[0;34m(\u001b[0m\u001b[0;34m)\u001b[0m\u001b[0;34m\u001b[0m\u001b[0;34m\u001b[0m\u001b[0m\n\u001b[0m\u001b[1;32m     27\u001b[0m     \u001b[0;32mif\u001b[0m \u001b[0mmajor\u001b[0m \u001b[0;34m>=\u001b[0m \u001b[0;36m8\u001b[0m\u001b[0;34m:\u001b[0m\u001b[0;34m\u001b[0m\u001b[0;34m\u001b[0m\u001b[0m\n\u001b[1;32m     28\u001b[0m         \u001b[0mprint\u001b[0m\u001b[0;34m(\u001b[0m\u001b[0;34m\"=\"\u001b[0m \u001b[0;34m*\u001b[0m \u001b[0;36m80\u001b[0m\u001b[0;34m)\u001b[0m\u001b[0;34m\u001b[0m\u001b[0;34m\u001b[0m\u001b[0m\n",
            "\u001b[0;32m/usr/local/lib/python3.10/dist-packages/torch/cuda/__init__.py\u001b[0m in \u001b[0;36mget_device_capability\u001b[0;34m(device)\u001b[0m\n\u001b[1;32m    433\u001b[0m         \u001b[0mtuple\u001b[0m\u001b[0;34m(\u001b[0m\u001b[0mint\u001b[0m\u001b[0;34m,\u001b[0m \u001b[0mint\u001b[0m\u001b[0;34m)\u001b[0m\u001b[0;34m:\u001b[0m \u001b[0mthe\u001b[0m \u001b[0mmajor\u001b[0m \u001b[0;32mand\u001b[0m \u001b[0mminor\u001b[0m \u001b[0mcuda\u001b[0m \u001b[0mcapability\u001b[0m \u001b[0mof\u001b[0m \u001b[0mthe\u001b[0m \u001b[0mdevice\u001b[0m\u001b[0;34m\u001b[0m\u001b[0;34m\u001b[0m\u001b[0m\n\u001b[1;32m    434\u001b[0m     \"\"\"\n\u001b[0;32m--> 435\u001b[0;31m     \u001b[0mprop\u001b[0m \u001b[0;34m=\u001b[0m \u001b[0mget_device_properties\u001b[0m\u001b[0;34m(\u001b[0m\u001b[0mdevice\u001b[0m\u001b[0;34m)\u001b[0m\u001b[0;34m\u001b[0m\u001b[0;34m\u001b[0m\u001b[0m\n\u001b[0m\u001b[1;32m    436\u001b[0m     \u001b[0;32mreturn\u001b[0m \u001b[0mprop\u001b[0m\u001b[0;34m.\u001b[0m\u001b[0mmajor\u001b[0m\u001b[0;34m,\u001b[0m \u001b[0mprop\u001b[0m\u001b[0;34m.\u001b[0m\u001b[0mminor\u001b[0m\u001b[0;34m\u001b[0m\u001b[0;34m\u001b[0m\u001b[0m\n\u001b[1;32m    437\u001b[0m \u001b[0;34m\u001b[0m\u001b[0m\n",
            "\u001b[0;32m/usr/local/lib/python3.10/dist-packages/torch/cuda/__init__.py\u001b[0m in \u001b[0;36mget_device_properties\u001b[0;34m(device)\u001b[0m\n\u001b[1;32m    447\u001b[0m         \u001b[0m_CudaDeviceProperties\u001b[0m\u001b[0;34m:\u001b[0m \u001b[0mthe\u001b[0m \u001b[0mproperties\u001b[0m \u001b[0mof\u001b[0m \u001b[0mthe\u001b[0m \u001b[0mdevice\u001b[0m\u001b[0;34m\u001b[0m\u001b[0;34m\u001b[0m\u001b[0m\n\u001b[1;32m    448\u001b[0m     \"\"\"\n\u001b[0;32m--> 449\u001b[0;31m     \u001b[0m_lazy_init\u001b[0m\u001b[0;34m(\u001b[0m\u001b[0;34m)\u001b[0m  \u001b[0;31m# will define _get_device_properties\u001b[0m\u001b[0;34m\u001b[0m\u001b[0;34m\u001b[0m\u001b[0m\n\u001b[0m\u001b[1;32m    450\u001b[0m     \u001b[0mdevice\u001b[0m \u001b[0;34m=\u001b[0m \u001b[0m_get_device_index\u001b[0m\u001b[0;34m(\u001b[0m\u001b[0mdevice\u001b[0m\u001b[0;34m,\u001b[0m \u001b[0moptional\u001b[0m\u001b[0;34m=\u001b[0m\u001b[0;32mTrue\u001b[0m\u001b[0;34m)\u001b[0m\u001b[0;34m\u001b[0m\u001b[0;34m\u001b[0m\u001b[0m\n\u001b[1;32m    451\u001b[0m     \u001b[0;32mif\u001b[0m \u001b[0mdevice\u001b[0m \u001b[0;34m<\u001b[0m \u001b[0;36m0\u001b[0m \u001b[0;32mor\u001b[0m \u001b[0mdevice\u001b[0m \u001b[0;34m>=\u001b[0m \u001b[0mdevice_count\u001b[0m\u001b[0;34m(\u001b[0m\u001b[0;34m)\u001b[0m\u001b[0;34m:\u001b[0m\u001b[0;34m\u001b[0m\u001b[0;34m\u001b[0m\u001b[0m\n",
            "\u001b[0;32m/usr/local/lib/python3.10/dist-packages/torch/cuda/__init__.py\u001b[0m in \u001b[0;36m_lazy_init\u001b[0;34m()\u001b[0m\n\u001b[1;32m    296\u001b[0m         \u001b[0;32mif\u001b[0m \u001b[0;34m\"CUDA_MODULE_LOADING\"\u001b[0m \u001b[0;32mnot\u001b[0m \u001b[0;32min\u001b[0m \u001b[0mos\u001b[0m\u001b[0;34m.\u001b[0m\u001b[0menviron\u001b[0m\u001b[0;34m:\u001b[0m\u001b[0;34m\u001b[0m\u001b[0;34m\u001b[0m\u001b[0m\n\u001b[1;32m    297\u001b[0m             \u001b[0mos\u001b[0m\u001b[0;34m.\u001b[0m\u001b[0menviron\u001b[0m\u001b[0;34m[\u001b[0m\u001b[0;34m\"CUDA_MODULE_LOADING\"\u001b[0m\u001b[0;34m]\u001b[0m \u001b[0;34m=\u001b[0m \u001b[0;34m\"LAZY\"\u001b[0m\u001b[0;34m\u001b[0m\u001b[0;34m\u001b[0m\u001b[0m\n\u001b[0;32m--> 298\u001b[0;31m         \u001b[0mtorch\u001b[0m\u001b[0;34m.\u001b[0m\u001b[0m_C\u001b[0m\u001b[0;34m.\u001b[0m\u001b[0m_cuda_init\u001b[0m\u001b[0;34m(\u001b[0m\u001b[0;34m)\u001b[0m\u001b[0;34m\u001b[0m\u001b[0;34m\u001b[0m\u001b[0m\n\u001b[0m\u001b[1;32m    299\u001b[0m         \u001b[0;31m# Some of the queued calls may reentrantly call _lazy_init();\u001b[0m\u001b[0;34m\u001b[0m\u001b[0;34m\u001b[0m\u001b[0m\n\u001b[1;32m    300\u001b[0m         \u001b[0;31m# we need to just return without initializing in that case.\u001b[0m\u001b[0;34m\u001b[0m\u001b[0;34m\u001b[0m\u001b[0m\n",
            "\u001b[0;31mRuntimeError\u001b[0m: Found no NVIDIA driver on your system. Please check that you have an NVIDIA GPU and installed a driver from http://www.nvidia.com/Download/index.aspx"
          ]
        }
      ],
      "source": [
        "# Load dataset (you can process it here)\n",
        "#dataset = load_dataset(dataset_name, split=\"train\")\n",
        "#dataset = load_dataset(\"json\", data_files=\"output_train.jsonl\", split=\"train\")\n",
        "\n",
        "from datasets import Dataset, DatasetDict, load_dataset\n",
        "#data_files = {\"train\": \"llamaformatted.csv\"}\n",
        "dataset = load_dataset(\"csv\", data_files=\"llamaformatted.csv\")\n",
        "\n",
        "\n",
        "\n",
        "dff = Dataset.from_pandas(dfnew)\n",
        "#dataset = load_dataset(dff, split=\"train\")\n",
        "\n",
        "# Load tokenizer and model with QLoRA configuration\n",
        "compute_dtype = getattr(torch, bnb_4bit_compute_dtype)\n",
        "\n",
        "bnb_config = BitsAndBytesConfig(\n",
        "    load_in_4bit=use_4bit,\n",
        "    bnb_4bit_quant_type=bnb_4bit_quant_type,\n",
        "    bnb_4bit_compute_dtype=compute_dtype,\n",
        "    bnb_4bit_use_double_quant=use_nested_quant,\n",
        ")\n",
        "\n",
        "# Check GPU compatibility with bfloat16\n",
        "if compute_dtype == torch.float16 and use_4bit:\n",
        "    major, _ = torch.cuda.get_device_capability()\n",
        "    if major >= 8:\n",
        "        print(\"=\" * 80)\n",
        "        print(\"Your GPU supports bfloat16: accelerate training with bf16=True\")\n",
        "        print(\"=\" * 80)\n"
      ]
    },
    {
      "cell_type": "code",
      "execution_count": null,
      "metadata": {
        "id": "Ku4jspOlYV8S"
      },
      "outputs": [],
      "source": [
        "\n",
        "# Load base model\n",
        "model = AutoModelForCausalLM.from_pretrained(\n",
        "    model_name,\n",
        "    quantization_config=bnb_config,\n",
        "    device_map=device_map\n",
        ")\n",
        "model.config.use_cache = False\n",
        "model.config.pretraining_tp = 1\n",
        "\n",
        "# Load LLaMA tokenizer\n",
        "tokenizer = AutoTokenizer.from_pretrained(model_name, trust_remote_code=True)\n",
        "tokenizer.pad_token = tokenizer.eos_token\n",
        "tokenizer.padding_side = \"right\" # Fix weird overflow issue with fp16 training\n",
        "\n",
        "# Load LoRA configuration\n",
        "peft_config = LoraConfig(\n",
        "    lora_alpha=lora_alpha,\n",
        "    lora_dropout=lora_dropout,\n",
        "    r=lora_r,\n",
        "    bias=\"none\",\n",
        "    task_type=\"CAUSAL_LM\",\n",
        ")\n"
      ]
    },
    {
      "cell_type": "code",
      "execution_count": null,
      "metadata": {
        "id": "gpepkj6rYYuW"
      },
      "outputs": [],
      "source": [
        "\n",
        "# Set training parameters\n",
        "training_arguments = TrainingArguments(\n",
        "    output_dir=output_dir,\n",
        "    num_train_epochs=num_train_epochs,\n",
        "    per_device_train_batch_size=per_device_train_batch_size,\n",
        "    gradient_accumulation_steps=gradient_accumulation_steps,\n",
        "    optim=optim,\n",
        "    save_steps=save_steps,\n",
        "    logging_steps=logging_steps,\n",
        "    learning_rate=learning_rate,\n",
        "    weight_decay=weight_decay,\n",
        "    fp16=fp16,\n",
        "    bf16=bf16,\n",
        "    max_grad_norm=max_grad_norm,\n",
        "    max_steps=max_steps,\n",
        "    warmup_ratio=warmup_ratio,\n",
        "    group_by_length=group_by_length,\n",
        "    lr_scheduler_type=lr_scheduler_type,\n",
        "    report_to=\"tensorboard\"\n",
        ")\n",
        "\n",
        "# Set supervised fine-tuning parameters\n"
      ]
    },
    {
      "cell_type": "code",
      "execution_count": null,
      "metadata": {
        "id": "3zJsfhewYZz-"
      },
      "outputs": [],
      "source": [
        "trainer = SFTTrainer(\n",
        "    model=model,\n",
        "    train_dataset=dff,\n",
        "    peft_config=peft_config,\n",
        "    dataset_text_field=\"Formatted\",\n",
        "    max_seq_length=max_seq_length,\n",
        "    tokenizer=tokenizer,\n",
        "    args=training_arguments,\n",
        "    packing=packing,\n",
        ")\n",
        "\n",
        "# Train model\n",
        "trainer.train()"
      ]
    },
    {
      "cell_type": "code",
      "execution_count": null,
      "metadata": {
        "id": "aQNaFYp40M6k"
      },
      "outputs": [],
      "source": [
        "# Save trained model\n",
        "trainer.model.save_pretrained(new_model)"
      ]
    },
    {
      "cell_type": "markdown",
      "metadata": {
        "id": "NBtXo_Tgw43o"
      },
      "source": [
        "##**Step 5: Check the plots on tensorboard, as follows**"
      ]
    },
    {
      "cell_type": "code",
      "execution_count": null,
      "metadata": {
        "id": "crj9svNe4hU5"
      },
      "outputs": [],
      "source": [
        "%load_ext tensorboard\n",
        "%tensorboard --logdir results/runs"
      ]
    },
    {
      "cell_type": "markdown",
      "metadata": {
        "id": "TDqxnjvExGG6"
      },
      "source": [
        "###**Step 6:Use the text generation pipeline to ask questions like “What is a large language model?” Note that I’m formatting the input to match Llama 2 prompt template.**"
      ]
    },
    {
      "cell_type": "code",
      "execution_count": null,
      "metadata": {
        "id": "frlSLPin4IJ4"
      },
      "outputs": [],
      "source": [
        "# Ignore warnings\n",
        "torch.cuda.empty_cache()\n",
        "logging.set_verbosity(logging.CRITICAL)\n",
        "\n",
        "# Run text generation pipeline with our next model\n",
        "prompt = \"AV_manufacturer:Waymo LLC, AVyear:2017.0, AVmake:Chrysler, AVmodel:Pacifica, AVregloc:CA, AccidentZIPcode:94109.0, AccidentSTATE:CA, AccidentCOUNTY:San Francisco, AccidentCITY:Francisco, AccidentADDRESS:Jones Street at Clay, AccidentDATE:04/04/2021, AccidentTIME:08:50, AVnoOFVehicles:2.0, V2year:2016.0, V2model:Honda CR-V, V2hitOTHERSspecify: , V2noOFVehicles:2.0, AccTYPE(Mode):Conventional, AccidenttimeOFdayAM-Status:AccidenttimeOFdayAM-Yes, AccidenttimeOFdayPM-Status:AccidenttimeOFdayPM-No, AVmotionMOVING-Status:AVmotionMOVING-Yes, AVmotionSTOPPED-Status:AVmotionSTOPPED-No, AVhitPEDESTRAIN-Status:AVhitPEDESTRAIN-No, AVhitBICYCLIST-Status:AVhitBICYCLIST-No, AVhitOTHERS-Status:AVhitOTHERS-No, AVhitOTHERSspecify-Status:AVhitOTHERSspecify-No, AVdamagelevelUNKNOWN-Status:AVdamagelevelUNKNOWN-No, AVdamagelevelNONE-Status:AVdamagelevelNONE-No, AVdamagelevelMINOR-Status:AVdamagelevelMINOR-Yes, AVdamagelevelMODERATE-Status:AVdamagelevelMODERATE-No, AVdamagelevelMAJOR-Status:AVdamagelevelMAJOR-No, AVdamagePartLRC1-Status:AVdamagePartLRC1-No, AVdamagePartRB-Status:AVdamagePartRB-No, AVdamagePartRRC1-Status:AVdamagePartRRC1-No, AVdamagePartLRPS1-Status:AVdamagePartLRPS1-No, AVdamagePartLRPS2-Status:AVdamagePartLRPS2-No, AVdamagePartRRPS1-Status:AVdamagePartRRPS1-No, AVdamagePartRRPS2-Status:AVdamagePartRRPS2-No, AVdamagePartLRPS3-Status:AVdamagePartLRPS3-No, AVdamagePartLRPS4-Status:AVdamagePartLRPS4-No, AVdamagePartRRPS3-Status:AVdamagePartRRPS3-No, AVdamagePartRRPS4-Status:AVdamagePartRRPS4-No, AVdamagePartFDS1-Status:AVdamagePartFDS1-No, AVdamagePartFDS2-Status:AVdamagePartFDS2-No, AVdamagePartFPS1-Status:AVdamagePartFPS1-No, AVdamagePartFPS2-Status:AVdamagePartFPS2-No, AVdamagePartFDS3-Status:AVdamagePartFDS3-No, AVdamagePartFDS4-Status:AVdamagePartFDS4-No, AVdamagePartFPS3-Status:AVdamagePartFPS3-No, AVdamagePartFPS4-Status:AVdamagePartFPS4-Yes, AVdamagePartLFC1-Status:AVdamagePartLFC1-No, AVdamagePartFC1-Status:AVdamagePartFC1-No, AVdamagePartRC1-Status:AVdamagePartRC1-No, AVdamagePartFRC1-Status:AVdamagePartFRC1-No, AVdamagePartLFC2-Status:AVdamagePartLFC2-No, AVdamagePartFB-Status:AVdamagePartFB-No, AVdamagePartFRC2-Status:AVdamagePartFRC2-No, AVdamagePartLRC2-Status:AVdamagePartLRC2-No, AVdamagePartLRC3-Status:AVdamagePartLRC3-No, AVdamagePartRRC2-Status:AVdamagePartRRC2-No, AVdamagePartRRC3-Status:AVdamagePartRRC3-No, V2motionMOVING-Status:V2motionMOVING-No, V2motionSTOPPED-Status:V2motionSTOPPED-No, V2hitPEDESTRAIN-Status:V2hitPEDESTRAIN-No, V2hitBICYCLIST-Status:V2hitBICYCLIST-No, V2hitOTHERS-Status:V2hitOTHERS-No, P1INJURED-Status:P1INJURED-No, P1PROPERTY-Status:P1PROPERTY-No, P1BICYCLIST-Status:P1BICYCLIST-No, P1PASSENGER-Status:P1PASSENGER-No, P1DRIVER-Status:P1DRIVER-No, P1DECEASED-Status:P1DECEASED-No, P2INJURED-Status:P2INJURED-No, P2PROPERTY-Status:P2PROPERTY-No, P2BICYCLIST-Status:P2BICYCLIST-No, P2PASSENGER-Status:P2PASSENGER-No, P2DRIVER-Status:P2DRIVER-No, P2DECEASED-Status:P2DECEASED-No, AccTYPEAuto-Status:AccTYPEAuto-No, AccWEATHERCLEARbyAV-Status:AccWEATHERCLEARbyAV-Yes, AccWEATHERCLEARbyV2-Status:AccWEATHERCLEARbyV2-Yes, AccWEATHERCLOUDYbyAV-Status:AccWEATHERCLOUDYbyAV-No, AccWEATHERCLOUDYbyV2-Status:AccWEATHERCLOUDYbyV2-No, AccWEATHERRAININGbyAV-Status:AccWEATHERRAININGbyAV-No, AccWEATHERRAININGbyV2-Status:AccWEATHERRAININGbyV2-No, AccWEATHERSNOWINGbyAV-Status:AccWEATHERSNOWINGbyAV-No, AccWEATHERSNOWINGbyV2-Status:AccWEATHERSNOWINGbyV2-No, AccWEATHERFOGbyAV-Status:AccWEATHERFOGbyAV-No, AccWEATHERFOGbyV2-Status:AccWEATHERFOGbyV2-No, AccWEATHEROTHERbyAV-Status:AccWEATHEROTHERbyAV-No, AccWEATHEROTHERbyV2-Status:AccWEATHEROTHERbyV2-No, AccWEATHERWINDbyAV-Status:AccWEATHERWINDbyAV-No, AccWEATHERWINDbyV2-Status:AccWEATHERWINDbyV2-No, AccLIGHTHINGDAYLIGHTbyAV-Status:AccLIGHTHINGDAYLIGHTbyAV-Yes, AccLIGHTHINGDAYLIGHTbyV2-Status:AccLIGHTHINGDAYLIGHTbyV2-Yes, AccLIGHTHINGDUSKDAWNbyAV-Status:AccLIGHTHINGDUSKDAWNbyAV-No, AccLIGHTHINGDUSKDAWNbyV2-Status:AccLIGHTHINGDUSKDAWNbyV2-No, AccLIGHTHINGDARKSTREETLIGHTSbyAV-Status:AccLIGHTHINGDARKSTREETLIGHTSbyAV-No, AccLIGHTHINGDARKSTREETLIGHTSbyV2-Status:AccLIGHTHINGDARKSTREETLIGHTSbyV2-No, AccLIGHTHINGDARKNOSTREETbyAV-Status:AccLIGHTHINGDARKNOSTREETbyAV-No, AccLIGHTHINGDARKNOSTREETbyV2-Status:AccLIGHTHINGDARKNOSTREETbyV2-No, AccLIGHTHINGDARKSTREETLIGHTSNOTFUNCTIONINGbyAV-Status:AccLIGHTHINGDARKSTREETLIGHTSNOTFUNCTIONINGbyAV-No, AccLIGHTHINGDARKSTREETLIGHTSNOTFUNCTIONINGbyV2-Status:AccLIGHTHINGDARKSTREETLIGHTSNOTFUNCTIONINGbyV2-No, AccROADSURFACEDRYbyAV-Status:AccROADSURFACEDRYbyAV-Yes, AccROADSURFACEDRYbyV2-Status:AccROADSURFACEDRYbyV2-Yes, AccROADSURFACEWETbyAV-Status:AccROADSURFACEWETbyAV-No, AccROADSURFACEWETbyV2-Status:AccROADSURFACEWETbyV2-No, AccROADSURFACESNOWYICYbyAV-Status:AccROADSURFACESNOWYICYbyAV-No, AccROADSURFACESNOWYICYbyV2-Status:AccROADSURFACESNOWYICYbyV2-No, AccROADSURFACESLIPPERYbyAV-Status:AccROADSURFACESLIPPERYbyAV-No, AccROADSURFACESLIPPERYbyV2-Status:AccROADSURFACESLIPPERYbyV2-No, AccROADCONDITIONSHOLESbyAV-Status:AccROADCONDITIONSHOLESbyAV-No, AccROADCONDITIONSHOLESbyV2-Status:AccROADCONDITIONSHOLESbyV2-No, AccROADCONDITIONSLOOSEMATERIALbyAV-Status:AccROADCONDITIONSLOOSEMATERIALbyAV-No, AccROADCONDITIONSLOOSEMATERIALbyV2-Status:AccROADCONDITIONSLOOSEMATERIALbyV2-No, AccROADCONDITIONSOBSTRUCTIONbyAV-Status:AccROADCONDITIONSOBSTRUCTIONbyAV-No, AccROADCONDITIONSOBSTRUCTIONbyV2-Status:AccROADCONDITIONSOBSTRUCTIONbyV2-No, AccROADCONDITIONSCONSTRUCTIONbyAV-Status:AccROADCONDITIONSCONSTRUCTIONbyAV-No, AccROADCONDITIONSCONSTRUCTIONbyV2-Status:AccROADCONDITIONSCONSTRUCTIONbyV2-No, AccROADCONDITIONSREDUCEDROADWAYWIDTHbyAV-Status:AccROADCONDITIONSREDUCEDROADWAYWIDTHbyAV-No, AccROADCONDITIONSREDUCEDROADWAYWIDTHbyV2-Status:AccROADCONDITIONSREDUCEDROADWAYWIDTHbyV2-No, AccROADCONDITIONSFLOODEDbyAV-Status:AccROADCONDITIONSFLOODEDbyAV-No, AccROADCONDITIONSFLOODEDbyV2-Status:AccROADCONDITIONSFLOODEDbyV2-No, AccROADCONDITIONSOTHERbyAV-Status:AccROADCONDITIONSOTHERbyAV-No, AccROADCONDITIONSOTHERbyV2-Status:AccROADCONDITIONSOTHERbyV2-No, AccROADCONDITIONSNOUNUSUALCONDITIONSbyAV-Status:AccROADCONDITIONSNOUNUSUALCONDITIONSbyAV-Yes, AccROADCONDITIONSNOUNUSUALCONDITIONSbyV2-Status:AccROADCONDITIONSNOUNUSUALCONDITIONSbyV2-Yes, AccSTATEB4CollisionSTOPPEDbyAV-Status:AccSTATEB4CollisionSTOPPEDbyAV-No, AccSTATEB4CollisionSTOPPEDbyV2-Status:AccSTATEB4CollisionSTOPPEDbyV2-No, AccSTATEB4CollisionPROCEEDINGSTRAIGHTbyAV-Status:AccSTATEB4CollisionPROCEEDINGSTRAIGHTbyAV-Yes, AccSTATEB4CollisionPROCEEDINGSTRAIGHTbyV2-Status:AccSTATEB4CollisionPROCEEDINGSTRAIGHTbyV2-No, AccSTATEB4CollisionRANOFFROADbyAV-Status:AccSTATEB4CollisionRANOFFROADbyAV-No, AccSTATEB4CollisionRANOFFROADbyV2-Status:AccSTATEB4CollisionRANOFFROADbyV2-No, AccSTATEB4CollisionMAKINGRIGHTTURNbyAV-Status:AccSTATEB4CollisionMAKINGRIGHTTURNbyAV-No, AccSTATEB4CollisionMAKINGRIGHTTURNbyV2-Status:AccSTATEB4CollisionMAKINGRIGHTTURNbyV2-No, AccSTATEB4CollisionMAKINGLEFTTURNbyAV-Status:AccSTATEB4CollisionMAKINGLEFTTURNbyAV-No, AccSTATEB4CollisionMAKINGLEFTTURNbyV2-Status:AccSTATEB4CollisionMAKINGLEFTTURNbyV2-No, AccSTATEB4CollisionMAKINGUTURNbyAV-Status:AccSTATEB4CollisionMAKINGUTURNbyAV-No, AccSTATEB4CollisionMAKINGUTURNbyV2-Status:AccSTATEB4CollisionMAKINGUTURNbyV2-No, AccSTATEB4CollisionBACKINGbyAV-Status:AccSTATEB4CollisionBACKINGbyAV-No, AccSTATEB4CollisionBACKINGbyV2-Status:AccSTATEB4CollisionBACKINGbyV2-No, AccSTATEB4CollisionSLOWSTOPPINGbyAV-Status:AccSTATEB4CollisionSLOWSTOPPINGbyAV-No, AccSTATEB4CollisionSLOWSTOPPINGbyV2-Status:AccSTATEB4CollisionSLOWSTOPPINGbyV2-No, AccSTATEB4CollisionPASSINGXINGINTOOPPOSLANEVEHICLEbyAV-Status:AccSTATEB4CollisionPASSINGXINGINTOOPPOSLANEVEHICLEbyAV-No, AccSTATEB4CollisionPASSINGXINGINTOOPPOSLANEVEHICLEbyV2-Status:AccSTATEB4CollisionPASSINGXINGINTOOPPOSLANEVEHICLEbyV2-No, AccSTATEB4CollisionCHANGINGLANESbyAV-Status:AccSTATEB4CollisionCHANGINGLANESbyAV-No, AccSTATEB4Collision CHANGINGLANESbyV2-Status:AccSTATEB4Collision CHANGINGLANESbyV2-No, AccSTATEB4CollisionPARKINGMANUEVERbyAV-Status:AccSTATEB4CollisionPARKINGMANUEVERbyAV-No, AccSTATEB4CollisionPARKINGMANUEVERbyV2-Status:AccSTATEB4CollisionPARKINGMANUEVERbyV2-No, AccSTATEB4CollisionENTERINGTRAFFICbyAV-Status:AccSTATEB4CollisionENTERINGTRAFFICbyAV-No, AccSTATEB4CollisionENTERINGTRAFFICbyV2-Status:AccSTATEB4CollisionENTERINGTRAFFICbyV2-No, AccSTATEB4CollisionUNSAFETURNINGbyAV-Status:AccSTATEB4CollisionUNSAFETURNINGbyAV-No, AccSTATEB4CollisionUNSAFETURNINGbyV2-Status:AccSTATEB4CollisionUNSAFETURNINGbyV2-No, AccSTATEB4CollisionXINGINTOOPPOSLANEbyAV-Status:AccSTATEB4CollisionXINGINTOOPPOSLANEbyAV-No, AccSTATEB4CollisionXINGINTOOPPOSLANEbyV2-Status:AccSTATEB4CollisionXINGINTOOPPOSLANEbyV2-No, AccSTATEB4CollisionPARKEDbyAV-Status:AccSTATEB4CollisionPARKEDbyAV-No, AccSTATEB4CollisionPARKEDbyV2-Status:AccSTATEB4CollisionPARKEDbyV2-Yes, AccSTATEB4CollisionMERGINGbyAV-Status:AccSTATEB4CollisionMERGINGbyAV-No, AccSTATEB4CollisionMERGINGbyV2-Status:AccSTATEB4CollisionMERGINGbyV2-No, AccSTATEB4CollisionTRAVELINGWRONGWAYbyAV-Status:AccSTATEB4CollisionTRAVELINGWRONGWAYbyAV-No, AccSTATEB4CollisionTRAVELINGWRONGWAYbyV2-Status:AccSTATEB4CollisionTRAVELINGWRONGWAYbyV2-No, AccSTATEB4CollisionOTHERbyAV-Status:AccSTATEB4CollisionOTHERbyAV-No, AccSTATEB4CollisionOTHERbyV2-Status:AccSTATEB4CollisionOTHERbyV2-No, AccCOLLISIONtypeHEADONbyAV-Status:AccCOLLISIONtypeHEADONbyAV-No, AccCOLLISIONtypeHEADONbyV2-Status:AccCOLLISIONtypeHEADONbyV2-No, AccCOLLISIONtypeSIDESWIPEbyAV-Status:AccCOLLISIONtypeSIDESWIPEbyAV-Yes, AccCOLLISIONtypeSIDESWIPEbyV2-Status:AccCOLLISIONtypeSIDESWIPEbyV2-No, AccCOLLISIONtypeREARENDbyAV-Status:AccCOLLISIONtypeREARENDbyAV-No, AccCOLLISIONtypeREARENDbyV2-Status:AccCOLLISIONtypeREARENDbyV2-No, AccCOLLISIONtypeBROADSIDEbyAV-Status:AccCOLLISIONtypeBROADSIDEbyAV-No, AccCOLLISIONtypeBROADSIDEbyV2-Status:AccCOLLISIONtypeBROADSIDEbyV2-No, AccCOLLISIONtypeHITOBJECTbyAV-Status:AccCOLLISIONtypeHITOBJECTbyAV-No, AccCOLLISIONtypeHITOBJECTbyV2-Status:AccCOLLISIONtypeHITOBJECTbyV2-No, AccCOLLISIONtypeOVERTURNEDbyAV-Status:AccCOLLISIONtypeOVERTURNEDbyAV-No, AccCOLLISIONtypeOVERTURNEDbyV2-Status:AccCOLLISIONtypeOVERTURNEDbyV2-No, AccCOLLISIONtypeVEHICLEORPEDESTRIANbyAV-Status:AccCOLLISIONtypeVEHICLEORPEDESTRIANbyAV-No, AccCOLLISIONtypeVEHICLEORPEDESTRIANbyV2-Status:AccCOLLISIONtypeVEHICLEORPEDESTRIANbyV2-No, AccCOLLISIONtypeOTHERbyAV-Status:AccCOLLISIONtypeOTHERbyAV-No, AccCOLLISIONtypeOTHERbyV2-Status:AccCOLLISIONtypeOTHERbyV2-No, AccOTHERfactorsCVCVIOLATEDYes-Status:AccOTHERfactorsCVCVIOLATEDYes-No, AccOTHERfactorsCVCVIOLATEDNo-Status:AccOTHERfactorsCVCVIOLATEDNo-No, AccOTHERfactorsVISIONOBSCUREMENT-Status:AccOTHERfactorsVISIONOBSCUREMENT-No, AccOTHERfactorsINATTENTION-Status:AccOTHERfactorsINATTENTION-No, AccOTHERfactorsSTOPGOTRAFFIC-Status:AccOTHERfactorsSTOPGOTRAFFIC-No, AccOTHERfactorsENTERINGORLEAVINGRAMP-Status:AccOTHERfactorsENTERINGORLEAVINGRAMP-No, AccOTHERfactorsPREVIOUSCOLLISION-Status:AccOTHERfactorsPREVIOUSCOLLISION-No, AccOTHERfactorsUNFAMILIARWITHROAD-Status:AccOTHERfactorsUNFAMILIARWITHROAD-No, AccOTHERfactorsDEFECTIVEWEHEQUIPYes-Status:AccOTHERfactorsDEFECTIVEWEHEQUIPYes-No, AccOTHERfactorsDEFECTIVEWEHEQUIPNo-Status:AccOTHERfactorsDEFECTIVEWEHEQUIPNo-No, AccOTHERfactorsUNINVOLVEDVEHICLE-Status:AccOTHERfactorsUNINVOLVEDVEHICLE-No, AccOTHERfactorsOTHER-Status:AccOTHERfactorsOTHER-No, AccOTHERfactorsNONEAPPARENT-Status:AccOTHERfactorsNONEAPPARENT-No, AccOTHERfactorsRUNAWAYVEHICLE-Status:AccOTHERfactorsRUNAWAYVEHICLE-No\"\n",
        "pipe = pipeline(task=\"text-generation\", model=model, tokenizer=tokenizer, max_length=10000)\n",
        "result = pipe(f\"<s>[INST] {prompt} [/INST]\")\n",
        "print(result[0]['generated_text'])"
      ]
    },
    {
      "cell_type": "code",
      "execution_count": null,
      "metadata": {
        "id": "mkQCviG0Zta-"
      },
      "outputs": [],
      "source": [
        "# Empty VRAM\n",
        "del model\n",
        "del pipe\n",
        "del trainer\n",
        "import gc\n",
        "gc.collect()\n",
        "gc.collect()"
      ]
    },
    {
      "cell_type": "markdown",
      "metadata": {
        "id": "Ly6QcnNRxfNR"
      },
      "source": [
        "You can train a Llama 2 model on the entire dataset using [mlabonne/guanaco-llama2](https://huggingface.co/datasets/mlabonne/guanaco-llama2)"
      ]
    },
    {
      "cell_type": "markdown",
      "metadata": {
        "id": "CwbthYYhxs8p"
      },
      "source": [
        "#**Step 7: Store New Llama2 Model (Llama-2-7b-chat-finetune)**"
      ]
    },
    {
      "cell_type": "markdown",
      "metadata": {
        "id": "ugs6EbD9xtAs"
      },
      "source": [
        "How can we store our new Llama-2-7b-chat-finetune model now? We need to merge the weights from LoRA with the base model. Unfortunately, as far as I know, there is no straightforward way to do it: we need to reload the base model in FP16 precision and use the peft library to merge everything."
      ]
    },
    {
      "cell_type": "code",
      "execution_count": null,
      "metadata": {
        "id": "QQn30cRtAZ-P"
      },
      "outputs": [],
      "source": [
        "# Reload model in FP16 and merge it with LoRA weights\n",
        "base_model = AutoModelForCausalLM.from_pretrained(\n",
        "    model_name,\n",
        "    low_cpu_mem_usage=True,\n",
        "    return_dict=True,\n",
        "    torch_dtype=torch.float16,\n",
        "    device_map=device_map,\n",
        ")\n",
        "model = PeftModel.from_pretrained(base_model, new_model)\n",
        "model = model.merge_and_unload()\n",
        "\n",
        "# Reload tokenizer to save it\n",
        "tokenizer = AutoTokenizer.from_pretrained(model_name, trust_remote_code=True)\n",
        "tokenizer.pad_token = tokenizer.eos_token\n",
        "tokenizer.padding_side = \"right\""
      ]
    },
    {
      "cell_type": "markdown",
      "metadata": {
        "id": "2bn7tjdByJ_i"
      },
      "source": [
        "#**Step 8: Push Model to Hugging Face Hub**"
      ]
    },
    {
      "cell_type": "markdown",
      "metadata": {
        "id": "CpyMDvc5yQrp"
      },
      "source": [
        "Our weights are merged and we reloaded the tokenizer. We can now push everything to the Hugging Face Hub to save our model."
      ]
    },
    {
      "cell_type": "code",
      "execution_count": null,
      "metadata": {
        "id": "Z8VUygTdqVnJ"
      },
      "outputs": [],
      "source": [
        "import locale\n",
        "locale.getpreferredencoding = lambda: \"UTF-8\""
      ]
    },
    {
      "cell_type": "code",
      "execution_count": null,
      "metadata": {
        "id": "x-xPb-_qB0dz"
      },
      "outputs": [],
      "source": [
        "!huggingface-cli login\n",
        "\n",
        "model.push_to_hub(\"umar4547/Llama-2-7b-chat-finetune\", check_pr=True)\n",
        "\n",
        "tokenizer.push_to_hub(\"umar4547/Llama-2-7b-chat-finetune\",check_pr=True)\n"
      ]
    },
    {
      "cell_type": "markdown",
      "metadata": {
        "id": "6nxb3tkLyXeI"
      },
      "source": [
        "You can now use this model for inference by loading it like any other Llama 2 model from the Hub."
      ]
    },
    {
      "cell_type": "code",
      "execution_count": null,
      "metadata": {
        "id": "UwfgUuy_ppsZ"
      },
      "outputs": [],
      "source": []
    }
  ],
  "metadata": {
    "colab": {
      "provenance": []
    },
    "kernelspec": {
      "display_name": "Python 3",
      "name": "python3"
    },
    "language_info": {
      "name": "python"
    },
    "widgets": {
      "application/vnd.jupyter.widget-state+json": {
        "17896ed3af394eb6bf9dd0229c18357a": {
          "model_module": "@jupyter-widgets/controls",
          "model_module_version": "1.5.0",
          "model_name": "ProgressStyleModel",
          "state": {
            "_model_module": "@jupyter-widgets/controls",
            "_model_module_version": "1.5.0",
            "_model_name": "ProgressStyleModel",
            "_view_count": null,
            "_view_module": "@jupyter-widgets/base",
            "_view_module_version": "1.2.0",
            "_view_name": "StyleView",
            "bar_color": null,
            "description_width": ""
          }
        },
        "46a2f927474e4d388636c11d1f15c71d": {
          "model_module": "@jupyter-widgets/controls",
          "model_module_version": "1.5.0",
          "model_name": "DescriptionStyleModel",
          "state": {
            "_model_module": "@jupyter-widgets/controls",
            "_model_module_version": "1.5.0",
            "_model_name": "DescriptionStyleModel",
            "_view_count": null,
            "_view_module": "@jupyter-widgets/base",
            "_view_module_version": "1.2.0",
            "_view_name": "StyleView",
            "description_width": ""
          }
        },
        "46d349479d8b4314beafd57f6279b474": {
          "model_module": "@jupyter-widgets/base",
          "model_module_version": "1.2.0",
          "model_name": "LayoutModel",
          "state": {
            "_model_module": "@jupyter-widgets/base",
            "_model_module_version": "1.2.0",
            "_model_name": "LayoutModel",
            "_view_count": null,
            "_view_module": "@jupyter-widgets/base",
            "_view_module_version": "1.2.0",
            "_view_name": "LayoutView",
            "align_content": null,
            "align_items": null,
            "align_self": null,
            "border": null,
            "bottom": null,
            "display": null,
            "flex": null,
            "flex_flow": null,
            "grid_area": null,
            "grid_auto_columns": null,
            "grid_auto_flow": null,
            "grid_auto_rows": null,
            "grid_column": null,
            "grid_gap": null,
            "grid_row": null,
            "grid_template_areas": null,
            "grid_template_columns": null,
            "grid_template_rows": null,
            "height": null,
            "justify_content": null,
            "justify_items": null,
            "left": null,
            "margin": null,
            "max_height": null,
            "max_width": null,
            "min_height": null,
            "min_width": null,
            "object_fit": null,
            "object_position": null,
            "order": null,
            "overflow": null,
            "overflow_x": null,
            "overflow_y": null,
            "padding": null,
            "right": null,
            "top": null,
            "visibility": null,
            "width": "20px"
          }
        },
        "5ee4740bef474c44932d6636e16fac20": {
          "model_module": "@jupyter-widgets/controls",
          "model_module_version": "1.5.0",
          "model_name": "HTMLModel",
          "state": {
            "_dom_classes": [],
            "_model_module": "@jupyter-widgets/controls",
            "_model_module_version": "1.5.0",
            "_model_name": "HTMLModel",
            "_view_count": null,
            "_view_module": "@jupyter-widgets/controls",
            "_view_module_version": "1.5.0",
            "_view_name": "HTMLView",
            "description": "",
            "description_tooltip": null,
            "layout": "IPY_MODEL_cb433eba722c4652a9ccdc0950afbdf1",
            "placeholder": "​",
            "style": "IPY_MODEL_71502e7aa47f4817becbdad34645848c",
            "value": "Generating train split: "
          }
        },
        "71502e7aa47f4817becbdad34645848c": {
          "model_module": "@jupyter-widgets/controls",
          "model_module_version": "1.5.0",
          "model_name": "DescriptionStyleModel",
          "state": {
            "_model_module": "@jupyter-widgets/controls",
            "_model_module_version": "1.5.0",
            "_model_name": "DescriptionStyleModel",
            "_view_count": null,
            "_view_module": "@jupyter-widgets/base",
            "_view_module_version": "1.2.0",
            "_view_name": "StyleView",
            "description_width": ""
          }
        },
        "8889a6b31f1c440da25793de03d98c7b": {
          "model_module": "@jupyter-widgets/controls",
          "model_module_version": "1.5.0",
          "model_name": "HTMLModel",
          "state": {
            "_dom_classes": [],
            "_model_module": "@jupyter-widgets/controls",
            "_model_module_version": "1.5.0",
            "_model_name": "HTMLModel",
            "_view_count": null,
            "_view_module": "@jupyter-widgets/controls",
            "_view_module_version": "1.5.0",
            "_view_name": "HTMLView",
            "description": "",
            "description_tooltip": null,
            "layout": "IPY_MODEL_c8b11632afd84771889376eb4f2b9dd3",
            "placeholder": "​",
            "style": "IPY_MODEL_46a2f927474e4d388636c11d1f15c71d",
            "value": " 327/0 [00:00&lt;00:00, 2076.05 examples/s]"
          }
        },
        "888c437d562147d5b15e245ecb8e59a6": {
          "model_module": "@jupyter-widgets/controls",
          "model_module_version": "1.5.0",
          "model_name": "HBoxModel",
          "state": {
            "_dom_classes": [],
            "_model_module": "@jupyter-widgets/controls",
            "_model_module_version": "1.5.0",
            "_model_name": "HBoxModel",
            "_view_count": null,
            "_view_module": "@jupyter-widgets/controls",
            "_view_module_version": "1.5.0",
            "_view_name": "HBoxView",
            "box_style": "",
            "children": [
              "IPY_MODEL_5ee4740bef474c44932d6636e16fac20",
              "IPY_MODEL_f966ce3c332c409187d969941241c3e3",
              "IPY_MODEL_8889a6b31f1c440da25793de03d98c7b"
            ],
            "layout": "IPY_MODEL_ecda12f8d55b49e595de9e811e8fd4b5"
          }
        },
        "c8b11632afd84771889376eb4f2b9dd3": {
          "model_module": "@jupyter-widgets/base",
          "model_module_version": "1.2.0",
          "model_name": "LayoutModel",
          "state": {
            "_model_module": "@jupyter-widgets/base",
            "_model_module_version": "1.2.0",
            "_model_name": "LayoutModel",
            "_view_count": null,
            "_view_module": "@jupyter-widgets/base",
            "_view_module_version": "1.2.0",
            "_view_name": "LayoutView",
            "align_content": null,
            "align_items": null,
            "align_self": null,
            "border": null,
            "bottom": null,
            "display": null,
            "flex": null,
            "flex_flow": null,
            "grid_area": null,
            "grid_auto_columns": null,
            "grid_auto_flow": null,
            "grid_auto_rows": null,
            "grid_column": null,
            "grid_gap": null,
            "grid_row": null,
            "grid_template_areas": null,
            "grid_template_columns": null,
            "grid_template_rows": null,
            "height": null,
            "justify_content": null,
            "justify_items": null,
            "left": null,
            "margin": null,
            "max_height": null,
            "max_width": null,
            "min_height": null,
            "min_width": null,
            "object_fit": null,
            "object_position": null,
            "order": null,
            "overflow": null,
            "overflow_x": null,
            "overflow_y": null,
            "padding": null,
            "right": null,
            "top": null,
            "visibility": null,
            "width": null
          }
        },
        "cb433eba722c4652a9ccdc0950afbdf1": {
          "model_module": "@jupyter-widgets/base",
          "model_module_version": "1.2.0",
          "model_name": "LayoutModel",
          "state": {
            "_model_module": "@jupyter-widgets/base",
            "_model_module_version": "1.2.0",
            "_model_name": "LayoutModel",
            "_view_count": null,
            "_view_module": "@jupyter-widgets/base",
            "_view_module_version": "1.2.0",
            "_view_name": "LayoutView",
            "align_content": null,
            "align_items": null,
            "align_self": null,
            "border": null,
            "bottom": null,
            "display": null,
            "flex": null,
            "flex_flow": null,
            "grid_area": null,
            "grid_auto_columns": null,
            "grid_auto_flow": null,
            "grid_auto_rows": null,
            "grid_column": null,
            "grid_gap": null,
            "grid_row": null,
            "grid_template_areas": null,
            "grid_template_columns": null,
            "grid_template_rows": null,
            "height": null,
            "justify_content": null,
            "justify_items": null,
            "left": null,
            "margin": null,
            "max_height": null,
            "max_width": null,
            "min_height": null,
            "min_width": null,
            "object_fit": null,
            "object_position": null,
            "order": null,
            "overflow": null,
            "overflow_x": null,
            "overflow_y": null,
            "padding": null,
            "right": null,
            "top": null,
            "visibility": null,
            "width": null
          }
        },
        "ecda12f8d55b49e595de9e811e8fd4b5": {
          "model_module": "@jupyter-widgets/base",
          "model_module_version": "1.2.0",
          "model_name": "LayoutModel",
          "state": {
            "_model_module": "@jupyter-widgets/base",
            "_model_module_version": "1.2.0",
            "_model_name": "LayoutModel",
            "_view_count": null,
            "_view_module": "@jupyter-widgets/base",
            "_view_module_version": "1.2.0",
            "_view_name": "LayoutView",
            "align_content": null,
            "align_items": null,
            "align_self": null,
            "border": null,
            "bottom": null,
            "display": null,
            "flex": null,
            "flex_flow": null,
            "grid_area": null,
            "grid_auto_columns": null,
            "grid_auto_flow": null,
            "grid_auto_rows": null,
            "grid_column": null,
            "grid_gap": null,
            "grid_row": null,
            "grid_template_areas": null,
            "grid_template_columns": null,
            "grid_template_rows": null,
            "height": null,
            "justify_content": null,
            "justify_items": null,
            "left": null,
            "margin": null,
            "max_height": null,
            "max_width": null,
            "min_height": null,
            "min_width": null,
            "object_fit": null,
            "object_position": null,
            "order": null,
            "overflow": null,
            "overflow_x": null,
            "overflow_y": null,
            "padding": null,
            "right": null,
            "top": null,
            "visibility": null,
            "width": null
          }
        },
        "f966ce3c332c409187d969941241c3e3": {
          "model_module": "@jupyter-widgets/controls",
          "model_module_version": "1.5.0",
          "model_name": "FloatProgressModel",
          "state": {
            "_dom_classes": [],
            "_model_module": "@jupyter-widgets/controls",
            "_model_module_version": "1.5.0",
            "_model_name": "FloatProgressModel",
            "_view_count": null,
            "_view_module": "@jupyter-widgets/controls",
            "_view_module_version": "1.5.0",
            "_view_name": "ProgressView",
            "bar_style": "success",
            "description": "",
            "description_tooltip": null,
            "layout": "IPY_MODEL_46d349479d8b4314beafd57f6279b474",
            "max": 1,
            "min": 0,
            "orientation": "horizontal",
            "style": "IPY_MODEL_17896ed3af394eb6bf9dd0229c18357a",
            "value": 1
          }
        }
      }
    }
  },
  "nbformat": 4,
  "nbformat_minor": 0
}
